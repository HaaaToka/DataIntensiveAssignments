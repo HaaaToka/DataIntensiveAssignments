{
 "cells": [
  {
   "cell_type": "code",
   "execution_count": 1,
   "metadata": {},
   "outputs": [],
   "source": [
    "import pandas as pd   \n"
   ]
  },
  {
   "cell_type": "code",
   "execution_count": 2,
   "metadata": {},
   "outputs": [
    {
     "name": "stdout",
     "output_type": "stream",
     "text": [
      "     A     B     C   D\n",
      "0  5.0  12.0  15.0  14\n",
      "1  2.0  19.0  26.0  17\n",
      "2  6.0   NaN  11.0  29\n",
      "3  4.0   8.0   NaN  16\n",
      "4  NaN  21.0   3.0  23\n",
      "19.8\n"
     ]
    },
    {
     "data": {
      "text/plain": [
       "pandas.core.frame.DataFrame"
      ]
     },
     "execution_count": 2,
     "metadata": {},
     "output_type": "execute_result"
    }
   ],
   "source": [
    "# Creating the dataframe    \n",
    "info = pd.DataFrame({\"A\":[5, 2, 6, 4, None],   \n",
    "                   \"B\":[12, 19, None, 8, 21],   \n",
    "                   \"C\":[15, 26, 11, None, 3],  \n",
    "                   \"D\":[14, 17, 29, 16, 23]})     \n",
    "# while finding mean, it skip null values   \n",
    "print(info)\n",
    "#print(info.mean(axis = 1, skipna = True))\n",
    "print(info[\"D\"].mean())\n",
    "type(info[\"D\"])\n",
    "type(info[[\"D\"]])"
   ]
  },
  {
   "cell_type": "code",
   "execution_count": null,
   "metadata": {},
   "outputs": [],
   "source": []
  }
 ],
 "metadata": {
  "kernelspec": {
   "display_name": "Python 3",
   "language": "python",
   "name": "python3"
  },
  "language_info": {
   "codemirror_mode": {
    "name": "ipython",
    "version": 3
   },
   "file_extension": ".py",
   "mimetype": "text/x-python",
   "name": "python",
   "nbconvert_exporter": "python",
   "pygments_lexer": "ipython3",
   "version": "3.8.1"
  }
 },
 "nbformat": 4,
 "nbformat_minor": 2
}

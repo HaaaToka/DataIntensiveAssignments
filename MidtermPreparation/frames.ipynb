{
 "cells": [
  {
   "cell_type": "code",
   "execution_count": 5,
   "metadata": {},
   "outputs": [],
   "source": [
    "import pandas as pd   \n"
   ]
  },
  {
   "cell_type": "code",
   "execution_count": 10,
   "metadata": {},
   "outputs": [
    {
     "output_type": "execute_result",
     "data": {
      "text/plain": "         Type    Coverage          AreaName           RegName  1980  1981  \\\n0  Immigrants    Citizens  Northern America  Northern America    ..    ..   \n1  Immigrants  Foreigners            Africa    Eastern Africa  1471  1641   \n2  Immigrants  Foreigners            Africa     Middle Africa    33    27   \n3  Immigrants  Foreigners            Africa   Northern Africa  1100  1268   \n4  Immigrants  Foreigners            Africa   Southern Africa  1041  1126   \n\n   1982  1983  1984  1985  ...   2004   2005   2006   2007   2008   2009  \\\n0    ..    ..    ..    ..  ...     ..     ..     ..     ..     ..     ..   \n1  1426  1094  1187  1134  ...   7726   7083   6750   6669   6705   6922   \n2    44    32    42    30  ...   2452   2802   2834   2951   3034   3255   \n3  1348   936   842   840  ...  12478  11323  12705  11750  13456  16320   \n4   791   387   297   327  ...   1203   1012   1148   1230   1184   1235   \n\n    2010   2011   2012  2013  \n0     ..      1      1   NaN  \n1   8591   8956   8846   NaN  \n2   3369   3146   4602   NaN  \n3  19271  15712  15453   NaN  \n4   1306   1049   1348   NaN  \n\n[5 rows x 38 columns]",
      "text/html": "<div>\n<style scoped>\n    .dataframe tbody tr th:only-of-type {\n        vertical-align: middle;\n    }\n\n    .dataframe tbody tr th {\n        vertical-align: top;\n    }\n\n    .dataframe thead th {\n        text-align: right;\n    }\n</style>\n<table border=\"1\" class=\"dataframe\">\n  <thead>\n    <tr style=\"text-align: right;\">\n      <th></th>\n      <th>Type</th>\n      <th>Coverage</th>\n      <th>AreaName</th>\n      <th>RegName</th>\n      <th>1980</th>\n      <th>1981</th>\n      <th>1982</th>\n      <th>1983</th>\n      <th>1984</th>\n      <th>1985</th>\n      <th>...</th>\n      <th>2004</th>\n      <th>2005</th>\n      <th>2006</th>\n      <th>2007</th>\n      <th>2008</th>\n      <th>2009</th>\n      <th>2010</th>\n      <th>2011</th>\n      <th>2012</th>\n      <th>2013</th>\n    </tr>\n  </thead>\n  <tbody>\n    <tr>\n      <th>0</th>\n      <td>Immigrants</td>\n      <td>Citizens</td>\n      <td>Northern America</td>\n      <td>Northern America</td>\n      <td>..</td>\n      <td>..</td>\n      <td>..</td>\n      <td>..</td>\n      <td>..</td>\n      <td>..</td>\n      <td>...</td>\n      <td>..</td>\n      <td>..</td>\n      <td>..</td>\n      <td>..</td>\n      <td>..</td>\n      <td>..</td>\n      <td>..</td>\n      <td>1</td>\n      <td>1</td>\n      <td>NaN</td>\n    </tr>\n    <tr>\n      <th>1</th>\n      <td>Immigrants</td>\n      <td>Foreigners</td>\n      <td>Africa</td>\n      <td>Eastern Africa</td>\n      <td>1471</td>\n      <td>1641</td>\n      <td>1426</td>\n      <td>1094</td>\n      <td>1187</td>\n      <td>1134</td>\n      <td>...</td>\n      <td>7726</td>\n      <td>7083</td>\n      <td>6750</td>\n      <td>6669</td>\n      <td>6705</td>\n      <td>6922</td>\n      <td>8591</td>\n      <td>8956</td>\n      <td>8846</td>\n      <td>NaN</td>\n    </tr>\n    <tr>\n      <th>2</th>\n      <td>Immigrants</td>\n      <td>Foreigners</td>\n      <td>Africa</td>\n      <td>Middle Africa</td>\n      <td>33</td>\n      <td>27</td>\n      <td>44</td>\n      <td>32</td>\n      <td>42</td>\n      <td>30</td>\n      <td>...</td>\n      <td>2452</td>\n      <td>2802</td>\n      <td>2834</td>\n      <td>2951</td>\n      <td>3034</td>\n      <td>3255</td>\n      <td>3369</td>\n      <td>3146</td>\n      <td>4602</td>\n      <td>NaN</td>\n    </tr>\n    <tr>\n      <th>3</th>\n      <td>Immigrants</td>\n      <td>Foreigners</td>\n      <td>Africa</td>\n      <td>Northern Africa</td>\n      <td>1100</td>\n      <td>1268</td>\n      <td>1348</td>\n      <td>936</td>\n      <td>842</td>\n      <td>840</td>\n      <td>...</td>\n      <td>12478</td>\n      <td>11323</td>\n      <td>12705</td>\n      <td>11750</td>\n      <td>13456</td>\n      <td>16320</td>\n      <td>19271</td>\n      <td>15712</td>\n      <td>15453</td>\n      <td>NaN</td>\n    </tr>\n    <tr>\n      <th>4</th>\n      <td>Immigrants</td>\n      <td>Foreigners</td>\n      <td>Africa</td>\n      <td>Southern Africa</td>\n      <td>1041</td>\n      <td>1126</td>\n      <td>791</td>\n      <td>387</td>\n      <td>297</td>\n      <td>327</td>\n      <td>...</td>\n      <td>1203</td>\n      <td>1012</td>\n      <td>1148</td>\n      <td>1230</td>\n      <td>1184</td>\n      <td>1235</td>\n      <td>1306</td>\n      <td>1049</td>\n      <td>1348</td>\n      <td>NaN</td>\n    </tr>\n  </tbody>\n</table>\n<p>5 rows × 38 columns</p>\n</div>"
     },
     "metadata": {},
     "execution_count": 10
    }
   ],
   "source": [
    "df_original=pd.read_excel(\"./datasets_218262_472613_Canada.xlsx\",skiprows=20)\n",
    "df_original.head()"
   ]
  },
  {
   "cell_type": "code",
   "execution_count": 11,
   "metadata": {},
   "outputs": [
    {
     "output_type": "execute_result",
     "data": {
      "text/plain": "                        Type    Coverage           RegName  1980  1981  1982  \\\nAreaName                                                                       \nNorthern America  Immigrants    Citizens  Northern America    ..    ..    ..   \nAfrica            Immigrants  Foreigners    Eastern Africa  1471  1641  1426   \nAfrica            Immigrants  Foreigners     Middle Africa    33    27    44   \nAfrica            Immigrants  Foreigners   Northern Africa  1100  1268  1348   \nAfrica            Immigrants  Foreigners   Southern Africa  1041  1126   791   \n\n                  1983  1984  1985  1986  ...   2004   2005   2006   2007  \\\nAreaName                                  ...                               \nNorthern America    ..    ..    ..    ..  ...     ..     ..     ..     ..   \nAfrica            1094  1187  1134  1454  ...   7726   7083   6750   6669   \nAfrica              32    42    30    61  ...   2452   2802   2834   2951   \nAfrica             936   842   840  1115  ...  12478  11323  12705  11750   \nAfrica             387   297   327   725  ...   1203   1012   1148   1230   \n\n                   2008   2009   2010   2011   2012  2013  \nAreaName                                                   \nNorthern America     ..     ..     ..      1      1   NaN  \nAfrica             6705   6922   8591   8956   8846   NaN  \nAfrica             3034   3255   3369   3146   4602   NaN  \nAfrica            13456  16320  19271  15712  15453   NaN  \nAfrica             1184   1235   1306   1049   1348   NaN  \n\n[5 rows x 37 columns]",
      "text/html": "<div>\n<style scoped>\n    .dataframe tbody tr th:only-of-type {\n        vertical-align: middle;\n    }\n\n    .dataframe tbody tr th {\n        vertical-align: top;\n    }\n\n    .dataframe thead th {\n        text-align: right;\n    }\n</style>\n<table border=\"1\" class=\"dataframe\">\n  <thead>\n    <tr style=\"text-align: right;\">\n      <th></th>\n      <th>Type</th>\n      <th>Coverage</th>\n      <th>RegName</th>\n      <th>1980</th>\n      <th>1981</th>\n      <th>1982</th>\n      <th>1983</th>\n      <th>1984</th>\n      <th>1985</th>\n      <th>1986</th>\n      <th>...</th>\n      <th>2004</th>\n      <th>2005</th>\n      <th>2006</th>\n      <th>2007</th>\n      <th>2008</th>\n      <th>2009</th>\n      <th>2010</th>\n      <th>2011</th>\n      <th>2012</th>\n      <th>2013</th>\n    </tr>\n    <tr>\n      <th>AreaName</th>\n      <th></th>\n      <th></th>\n      <th></th>\n      <th></th>\n      <th></th>\n      <th></th>\n      <th></th>\n      <th></th>\n      <th></th>\n      <th></th>\n      <th></th>\n      <th></th>\n      <th></th>\n      <th></th>\n      <th></th>\n      <th></th>\n      <th></th>\n      <th></th>\n      <th></th>\n      <th></th>\n      <th></th>\n    </tr>\n  </thead>\n  <tbody>\n    <tr>\n      <th>Northern America</th>\n      <td>Immigrants</td>\n      <td>Citizens</td>\n      <td>Northern America</td>\n      <td>..</td>\n      <td>..</td>\n      <td>..</td>\n      <td>..</td>\n      <td>..</td>\n      <td>..</td>\n      <td>..</td>\n      <td>...</td>\n      <td>..</td>\n      <td>..</td>\n      <td>..</td>\n      <td>..</td>\n      <td>..</td>\n      <td>..</td>\n      <td>..</td>\n      <td>1</td>\n      <td>1</td>\n      <td>NaN</td>\n    </tr>\n    <tr>\n      <th>Africa</th>\n      <td>Immigrants</td>\n      <td>Foreigners</td>\n      <td>Eastern Africa</td>\n      <td>1471</td>\n      <td>1641</td>\n      <td>1426</td>\n      <td>1094</td>\n      <td>1187</td>\n      <td>1134</td>\n      <td>1454</td>\n      <td>...</td>\n      <td>7726</td>\n      <td>7083</td>\n      <td>6750</td>\n      <td>6669</td>\n      <td>6705</td>\n      <td>6922</td>\n      <td>8591</td>\n      <td>8956</td>\n      <td>8846</td>\n      <td>NaN</td>\n    </tr>\n    <tr>\n      <th>Africa</th>\n      <td>Immigrants</td>\n      <td>Foreigners</td>\n      <td>Middle Africa</td>\n      <td>33</td>\n      <td>27</td>\n      <td>44</td>\n      <td>32</td>\n      <td>42</td>\n      <td>30</td>\n      <td>61</td>\n      <td>...</td>\n      <td>2452</td>\n      <td>2802</td>\n      <td>2834</td>\n      <td>2951</td>\n      <td>3034</td>\n      <td>3255</td>\n      <td>3369</td>\n      <td>3146</td>\n      <td>4602</td>\n      <td>NaN</td>\n    </tr>\n    <tr>\n      <th>Africa</th>\n      <td>Immigrants</td>\n      <td>Foreigners</td>\n      <td>Northern Africa</td>\n      <td>1100</td>\n      <td>1268</td>\n      <td>1348</td>\n      <td>936</td>\n      <td>842</td>\n      <td>840</td>\n      <td>1115</td>\n      <td>...</td>\n      <td>12478</td>\n      <td>11323</td>\n      <td>12705</td>\n      <td>11750</td>\n      <td>13456</td>\n      <td>16320</td>\n      <td>19271</td>\n      <td>15712</td>\n      <td>15453</td>\n      <td>NaN</td>\n    </tr>\n    <tr>\n      <th>Africa</th>\n      <td>Immigrants</td>\n      <td>Foreigners</td>\n      <td>Southern Africa</td>\n      <td>1041</td>\n      <td>1126</td>\n      <td>791</td>\n      <td>387</td>\n      <td>297</td>\n      <td>327</td>\n      <td>725</td>\n      <td>...</td>\n      <td>1203</td>\n      <td>1012</td>\n      <td>1148</td>\n      <td>1230</td>\n      <td>1184</td>\n      <td>1235</td>\n      <td>1306</td>\n      <td>1049</td>\n      <td>1348</td>\n      <td>NaN</td>\n    </tr>\n  </tbody>\n</table>\n<p>5 rows × 37 columns</p>\n</div>"
     },
     "metadata": {},
     "execution_count": 11
    }
   ],
   "source": [
    "df_original=df_original.set_index(\"AreaName\")\n",
    "df_original.head()"
   ]
  },
  {
   "cell_type": "code",
   "execution_count": 8,
   "metadata": {},
   "outputs": [],
   "source": [
    "df_original[\"Total\"]=df_original.sum(axis=1)"
   ]
  },
  {
   "cell_type": "code",
   "execution_count": null,
   "metadata": {},
   "outputs": [],
   "source": []
  }
 ],
 "metadata": {
  "kernelspec": {
   "display_name": "Python 3",
   "language": "python",
   "name": "python3"
  },
  "language_info": {
   "codemirror_mode": {
    "name": "ipython",
    "version": 3
   },
   "file_extension": ".py",
   "mimetype": "text/x-python",
   "name": "python",
   "nbconvert_exporter": "python",
   "pygments_lexer": "ipython3",
   "version": "3.7.5-final"
  }
 },
 "nbformat": 4,
 "nbformat_minor": 2
}
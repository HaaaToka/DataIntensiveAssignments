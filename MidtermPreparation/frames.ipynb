{
 "cells": [
  {
   "cell_type": "code",
   "execution_count": 3,
   "metadata": {},
   "outputs": [],
   "source": [
    "import pandas as pd   \n"
   ]
  },
  {
   "cell_type": "code",
   "execution_count": 4,
   "metadata": {},
   "outputs": [
    {
     "output_type": "execute_result",
     "data": {
      "text/plain": "pandas.core.frame.DataFrame"
     },
     "metadata": {},
     "execution_count": 4
    }
   ],
   "source": [
    "# Creating the dataframe    \n",
    "info = pd.DataFrame({\"A\":[5, 2, 6, 4, None],   \n",
    "                   \"B\":[12, 19, None, 8, 21],   \n",
    "                   \"C\":[15, 26, 11, None, 3],  \n",
    "                   \"D\":[14, 17, 29, 16, 23]})     \n",
    "# while finding mean, it skip null values   \n",
    "print(info)\n",
    "#print(info.mean(axis = 1, skipna = True))\n",
    "print(info[\"D\"].mean())\n",
    "type(info[\"D\"])\n",
    "type(info[[\"D\"]])"
   ]
  }
 ],
 "metadata": {
  "language_info": {
   "codemirror_mode": {
    "name": "ipython",
    "version": 3
   },
   "file_extension": ".py",
   "mimetype": "text/x-python",
   "name": "python",
   "nbconvert_exporter": "python",
   "pygments_lexer": "ipython3",
   "version": "3.7.5-final"
  },
  "orig_nbformat": 2,
  "kernelspec": {
   "name": "13766432-6ccf-41f6-a91c-43cf7222ba3d",
   "display_name": "'Python Interactive'"
  }
 },
 "nbformat": 4,
 "nbformat_minor": 2
}
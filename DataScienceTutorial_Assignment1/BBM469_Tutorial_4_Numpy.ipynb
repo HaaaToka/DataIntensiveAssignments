{
  "nbformat": 4,
  "nbformat_minor": 0,
  "metadata": {
    "celltoolbar": "Slideshow",
    "kernelspec": {
      "display_name": "Python 3",
      "language": "python",
      "name": "python3"
    },
    "language_info": {
      "codemirror_mode": {
        "name": "ipython",
        "version": 3
      },
      "file_extension": ".py",
      "mimetype": "text/x-python",
      "name": "python",
      "nbconvert_exporter": "python",
      "pygments_lexer": "ipython3",
      "version": "3.6.7"
    },
    "colab": {
      "name": "BBM469-Tutorial-4-Numpy.ipynb",
      "provenance": [],
      "include_colab_link": true
    }
  },
  "cells": [
    {
      "cell_type": "markdown",
      "metadata": {
        "id": "view-in-github",
        "colab_type": "text"
      },
      "source": [
        "<a href=\"https://colab.research.google.com/github/aucan/DataScienceTutorials/blob/master/BBM469_Tutorial_4_Numpy.ipynb\" target=\"_parent\"><img src=\"https://colab.research.google.com/assets/colab-badge.svg\" alt=\"Open In Colab\"/></a>"
      ]
    },
    {
      "cell_type": "markdown",
      "metadata": {
        "id": "xYwEWjc73K6y",
        "colab_type": "text"
      },
      "source": [
        "# BBM469-Data Intensive Applications Lab. Numpy Tutorial\n",
        "---\n",
        "**The Aim**\n",
        "\n",
        "In this document, you will be given for some tutorials and headlines for you to learn the basics of Numpy."
      ]
    },
    {
      "cell_type": "markdown",
      "metadata": {
        "id": "_kazsEkW28QC",
        "colab_type": "text"
      },
      "source": [
        "**Numpy**\n",
        "\n",
        "NumPy is the fundamental package for scientific computing with Python.\n",
        "\n",
        "In Python, data is almost universally represented as NumPy arrays. Even newer tools like Pandas are built around the NumPy array.\n",
        "\n",
        "We will be seeing: \n",
        "1. 1D array, 2D array \n",
        "2. Array slices, joins, subsets \n",
        "3. Arithmetic Operations on 2D arrays \n",
        "4. Covariance, Correlation  \n"
      ]
    },
    {
      "cell_type": "markdown",
      "metadata": {
        "id": "1sPkOAE328QD",
        "colab_type": "text"
      },
      "source": [
        "**Initializing Numpy Arrays **\n",
        "\n",
        "\n",
        "1. Using np.array\n",
        "2. Using np.ndarray"
      ]
    },
    {
      "cell_type": "code",
      "metadata": {
        "scrolled": true,
        "id": "s52S1GZA28QE",
        "colab_type": "code",
        "colab": {}
      },
      "source": [
        "import numpy as np\n",
        "np.random.seed(0)  # seed for reproducibility\n",
        "x1 = np.random.randint(10, size=6)  # One-dimensional array\n",
        "x2 = np.random.randint(10, size=(3, 3))  # Two-dimensional array"
      ],
      "execution_count": 0,
      "outputs": []
    },
    {
      "cell_type": "code",
      "metadata": {
        "scrolled": true,
        "id": "Nk2rnf0D28QH",
        "colab_type": "code",
        "colab": {}
      },
      "source": [
        "print(x1)"
      ],
      "execution_count": 0,
      "outputs": []
    },
    {
      "cell_type": "code",
      "metadata": {
        "scrolled": true,
        "id": "j8Ivuyh928QK",
        "colab_type": "code",
        "colab": {}
      },
      "source": [
        "print(x2)"
      ],
      "execution_count": 0,
      "outputs": []
    },
    {
      "cell_type": "markdown",
      "metadata": {
        "id": "tfyA4MlL28QN",
        "colab_type": "text"
      },
      "source": [
        "**Using np.array()**\n"
      ]
    },
    {
      "cell_type": "code",
      "metadata": {
        "scrolled": true,
        "id": "sA6reZDE28QO",
        "colab_type": "code",
        "colab": {}
      },
      "source": [
        "x1 = np.array([1,2,3,4])\n",
        "print(x1)\n",
        "print(type(x1))"
      ],
      "execution_count": 0,
      "outputs": []
    },
    {
      "cell_type": "code",
      "metadata": {
        "scrolled": true,
        "id": "tuP_JX3828QR",
        "colab_type": "code",
        "colab": {}
      },
      "source": [
        "x2 = np.array([[1,2,3],[4,5,6]])\n",
        "print(x2)\n",
        "print(type(x2))"
      ],
      "execution_count": 0,
      "outputs": []
    },
    {
      "cell_type": "markdown",
      "metadata": {
        "id": "7gC13MVX28QV",
        "colab_type": "text"
      },
      "source": [
        "**Using np.ndarray()**"
      ]
    },
    {
      "cell_type": "code",
      "metadata": {
        "id": "D-eO4muO28QW",
        "colab_type": "code",
        "colab": {}
      },
      "source": [
        "x = np.ndarray(shape=(1,3),dtype=int, buffer = np.array([1,2,3]))\n",
        "print(x)\n",
        "x = np.append(x,5)\n",
        "print(x)\n",
        "print(type(x))"
      ],
      "execution_count": 0,
      "outputs": []
    },
    {
      "cell_type": "code",
      "metadata": {
        "scrolled": true,
        "id": "dAgUJmuv28QZ",
        "colab_type": "code",
        "colab": {}
      },
      "source": [
        "x = np.ndarray(shape=(2,2), dtype=float,buffer = np.array([[1.4,2.5],[1.3,2.4]]))\n",
        "print(x)"
      ],
      "execution_count": 0,
      "outputs": []
    },
    {
      "cell_type": "code",
      "metadata": {
        "scrolled": true,
        "id": "sGp7QqXw28Qb",
        "colab_type": "code",
        "colab": {}
      },
      "source": [
        "x = np.ndarray(shape=(2,2), dtype=int,buffer = np.array([[1,2],[1,2]]))\n",
        "print(x)"
      ],
      "execution_count": 0,
      "outputs": []
    },
    {
      "cell_type": "markdown",
      "metadata": {
        "id": "9w0xbOF528Qf",
        "colab_type": "text"
      },
      "source": [
        "**Attributes of ndarray**"
      ]
    },
    {
      "cell_type": "markdown",
      "metadata": {
        "id": "IaAcb3eX28Qg",
        "colab_type": "text"
      },
      "source": [
        "Each array has attributes `ndim` (the number of dimensions), `shape` (the size of each dimension), and `size` (the total size of the array):"
      ]
    },
    {
      "cell_type": "code",
      "metadata": {
        "scrolled": true,
        "id": "ZLQqwHaG28Qh",
        "colab_type": "code",
        "outputId": "d3ec5d76-716f-4d0b-f663-04fe603d4107",
        "colab": {}
      },
      "source": [
        "x2 = np.array([[1,2,3],[4,5,6]])\n",
        "print(\"x2.ndim = \",x2.ndim)\n",
        "print(\"x2.shape = \",x2.shape)\n",
        "print(\"x2.size = \",x2.size)"
      ],
      "execution_count": 0,
      "outputs": [
        {
          "output_type": "stream",
          "text": [
            "x2.ndim =  2\n",
            "x2.shape =  (2, 3)\n",
            "x2.size =  6\n"
          ],
          "name": "stdout"
        }
      ]
    },
    {
      "cell_type": "markdown",
      "metadata": {
        "id": "tscYmRQH28Qj",
        "colab_type": "text"
      },
      "source": [
        "Another useful attribute is the `dtype` which tells you about the type of elements in the array:"
      ]
    },
    {
      "cell_type": "code",
      "metadata": {
        "scrolled": true,
        "id": "R9rNnEN628Qk",
        "colab_type": "code",
        "outputId": "e410d6a5-b7c9-432d-8440-1a5469ce0179",
        "colab": {}
      },
      "source": [
        "print(\"x2.dtype = \",x2.dtype)"
      ],
      "execution_count": 0,
      "outputs": [
        {
          "output_type": "stream",
          "text": [
            "x2.dtype =  int64\n"
          ],
          "name": "stdout"
        }
      ]
    },
    {
      "cell_type": "markdown",
      "metadata": {
        "id": "jifDreaN28Qo",
        "colab_type": "text"
      },
      "source": [
        "Other attributes include `itemsize`, which lists the size (in bytes) of each array element, and `nbytes`, which lists the total size (in bytes) of the array:"
      ]
    },
    {
      "cell_type": "code",
      "metadata": {
        "scrolled": true,
        "id": "Nhy0C1UX28Qp",
        "colab_type": "code",
        "outputId": "85d621ec-7636-4476-bdb6-eec50915e050",
        "colab": {}
      },
      "source": [
        "print(\"itemsize:\", x2.itemsize, \"bytes\")\n",
        "print(\"nbytes:\", x2.nbytes, \"bytes\")"
      ],
      "execution_count": 0,
      "outputs": [
        {
          "output_type": "stream",
          "text": [
            "itemsize: 8 bytes\n",
            "nbytes: 48 bytes\n"
          ],
          "name": "stdout"
        }
      ]
    },
    {
      "cell_type": "markdown",
      "metadata": {
        "id": "GykRNUPR28Qs",
        "colab_type": "text"
      },
      "source": [
        "**Array Indexing: Accessing Single Elements**"
      ]
    },
    {
      "cell_type": "markdown",
      "metadata": {
        "id": "tcze1-7a28Qs",
        "colab_type": "text"
      },
      "source": [
        "In a one-dimensional array, the ith value (counting from zero) can be accessed by specifying the desired index in square brackets, just as with Python lists:"
      ]
    },
    {
      "cell_type": "code",
      "metadata": {
        "scrolled": true,
        "id": "nfYchGo428Qt",
        "colab_type": "code",
        "outputId": "9c4d31cb-a5f9-43ee-e78d-b69681c0ad61",
        "colab": {}
      },
      "source": [
        "x1 = np.array([1,2,3,4])\n",
        "print(\"x1 = \",x1)\n",
        "print(\"x1[0] = \",x1[0]) # just like arrays in c/c++\n",
        "print(\"x1[-1] = \",x1[-1]) # negative indexing just like lists "
      ],
      "execution_count": 0,
      "outputs": [
        {
          "output_type": "stream",
          "text": [
            "x1 =  [1 2 3 4]\n",
            "x1[0] =  1\n",
            "x1[-1] =  4\n"
          ],
          "name": "stdout"
        }
      ]
    },
    {
      "cell_type": "markdown",
      "metadata": {
        "id": "ukWy-pI828Qx",
        "colab_type": "text"
      },
      "source": [
        "In a multi-dimensional array, items can be accessed using a comma-separated tuple of indices:"
      ]
    },
    {
      "cell_type": "code",
      "metadata": {
        "scrolled": true,
        "id": "u9ILoX3728Qy",
        "colab_type": "code",
        "colab": {}
      },
      "source": [
        "print(\"x2 = \"); print(x2)\n",
        "print(\"x2[0] = \",x2[0]) # will print the entire 1st row\n",
        "\n",
        "# to print 1st element of 1st row\n",
        "print(\"x2[0][0]= \", x2[0][0]) \n",
        "print(\"x2[0,0] = \",x2[0,0])\n",
        "\n",
        "# to print 2nd element of 3rd row\n",
        "print(\"x2[2][1]= \", x2[2][1])\n",
        "print(\"x2[2,1]= \", x2[2,1])\n"
      ],
      "execution_count": 0,
      "outputs": []
    },
    {
      "cell_type": "markdown",
      "metadata": {
        "id": "XbK5bnFD28Q1",
        "colab_type": "text"
      },
      "source": [
        "Values can also be modified using any of the above index notation:"
      ]
    },
    {
      "cell_type": "code",
      "metadata": {
        "scrolled": true,
        "id": "AptHhcpw28Q1",
        "colab_type": "code",
        "colab": {}
      },
      "source": [
        "x2[0, 0] = 12\n",
        "print(x2)"
      ],
      "execution_count": 0,
      "outputs": []
    },
    {
      "cell_type": "code",
      "metadata": {
        "scrolled": true,
        "id": "re8qXXcZ28Q4",
        "colab_type": "code",
        "colab": {}
      },
      "source": [
        "x2[0][0] = 14\n",
        "print(x2)"
      ],
      "execution_count": 0,
      "outputs": []
    },
    {
      "cell_type": "markdown",
      "metadata": {
        "id": "sVnItG8V28Q6",
        "colab_type": "text"
      },
      "source": [
        "**NOTE :** Unlike Python lists, NumPy arrays have a fixed type. This means, for example, if you attempt to insert a floating-point value to an integer array, the value will be silently truncated.\n",
        "\n",
        "i.e the float value gets converted to nearest int value."
      ]
    },
    {
      "cell_type": "code",
      "metadata": {
        "scrolled": true,
        "id": "FLwCb_G628Q6",
        "colab_type": "code",
        "colab": {}
      },
      "source": [
        "x1 = np.ndarray(5, buffer = np.array([1,2,3,4,5]),dtype = int)\n",
        "print(x1)\n",
        "x1[2] = 5.7\n",
        "print(\"x1 after changing : \",x1)"
      ],
      "execution_count": 0,
      "outputs": []
    },
    {
      "cell_type": "markdown",
      "metadata": {
        "id": "P8PELg9R28Q9",
        "colab_type": "text"
      },
      "source": [
        "**Array Slicing and Subsetting : Accessing Subarrays**"
      ]
    },
    {
      "cell_type": "markdown",
      "metadata": {
        "id": "iktiiFJW28Q-",
        "colab_type": "text"
      },
      "source": [
        "Just as we can use square brackets to access individual array elements, we can also use them to access subarrays with the slice notation, marked by the colon (:) character. The NumPy slicing syntax follows that of the standard Python list; to access a slice of an array x, use :\n",
        "```python\n",
        "x[start:stop:step]\n",
        "```\n",
        "**NOTE :** Default value of `start` is `0`, `stop` is `size of object` and `step` is `1`. "
      ]
    },
    {
      "cell_type": "code",
      "metadata": {
        "scrolled": true,
        "id": "sejjI0GV28Q_",
        "colab_type": "code",
        "colab": {}
      },
      "source": [
        "x = np.ndarray(10, buffer = np.array([0,1,2,3,4,5,6,7,8,9]),dtype = int)\n",
        "print(x)\n",
        "print(\"x[:] = \",x[:])\n",
        "print(\"x[:5] = \",x[:5])\n",
        "print(\"x[5:] = \",x[5:])\n",
        "print(\"x[1:5] = \",x[1:5])\n",
        "print(\"x[1:5:2] = \",x[1:5:2])\n",
        "print(\"x[::-1] = \",x[::-1])"
      ],
      "execution_count": 0,
      "outputs": []
    },
    {
      "cell_type": "code",
      "metadata": {
        "scrolled": true,
        "id": "seP1-1t628RC",
        "colab_type": "code",
        "colab": {}
      },
      "source": [
        "np.random.seed(0)  # seed for reproducibility\n",
        "x2 = np.random.randint(10, size=(3, 3))  \n",
        "print(x2)\n",
        "print(\"x2[:2, :3] = \"); print(x2[:2, :3])  # first two rows, first three columns\n",
        "print(\"x2[:3, ::2] = \"); print(x2[:3, ::2]) # all rows, every other column\n",
        "print(\"x2[::-1, ::-1] = \"); print(x2[::-1, ::-1]) #reversed 2D array\n",
        "print(\"x2[:, 0] = \",x2[:, 0])  # first column of x2"
      ],
      "execution_count": 0,
      "outputs": []
    },
    {
      "cell_type": "markdown",
      "metadata": {
        "id": "e9xt6XFC28RE",
        "colab_type": "text"
      },
      "source": [
        "**Joining Two Arrays**"
      ]
    },
    {
      "cell_type": "markdown",
      "metadata": {
        "id": "SmRRXndL28RF",
        "colab_type": "text"
      },
      "source": [
        "Joining of two arrays in NumPy, is primarily accomplished using the routine `np.concatenate`."
      ]
    },
    {
      "cell_type": "code",
      "metadata": {
        "scrolled": true,
        "id": "vuVrY7N528RG",
        "colab_type": "code",
        "colab": {}
      },
      "source": [
        "x = np.array([1,2,3])\n",
        "y = np.array([4,5,6])\n",
        "z = np.concatenate([x,y]) # Combines x and y to give one array. \n",
        "# a = np.concatenate([x,y,z])\n",
        "print(z)"
      ],
      "execution_count": 0,
      "outputs": []
    },
    {
      "cell_type": "code",
      "metadata": {
        "scrolled": true,
        "id": "WYsUyu-K28RI",
        "colab_type": "code",
        "colab": {}
      },
      "source": [
        "x2 = np.array([[1,2,3],[2,3,4]])\n",
        "y2 = np.array([[3,4,5],[4,5,6]])\n",
        "z2 = np.concatenate([x2,y2])\n",
        "print(z2)"
      ],
      "execution_count": 0,
      "outputs": []
    },
    {
      "cell_type": "markdown",
      "metadata": {
        "id": "YgkRC7nV28RK",
        "colab_type": "text"
      },
      "source": [
        "**Arithmetic Operations on 2D arrays**"
      ]
    },
    {
      "cell_type": "markdown",
      "metadata": {
        "id": "Keo6MI3T28RL",
        "colab_type": "text"
      },
      "source": [
        "| Operator \t| Equivalent Function \t|\n",
        "|----------\t|---------------------\t|\n",
        "| +        \t| np.add              \t|\n",
        "| -        \t| np.subtract         \t|\n",
        "| *        \t| np.multiply         \t|"
      ]
    },
    {
      "cell_type": "code",
      "metadata": {
        "scrolled": true,
        "id": "OFnNDwwH28RM",
        "colab_type": "code",
        "colab": {}
      },
      "source": [
        "x2 = np.array([[1,2,3],[2,3,4]])\n",
        "y2 = np.array([[3,4,5],[4,5,6]])\n",
        "print(\"x2 + y2 = \"); print(np.add(x2,y2))\n",
        "print(\"x2 - y2 = \"); print(np.subtract(x2,y2))"
      ],
      "execution_count": 0,
      "outputs": []
    },
    {
      "cell_type": "code",
      "metadata": {
        "scrolled": true,
        "id": "DivuZzYc28RO",
        "colab_type": "code",
        "colab": {}
      },
      "source": [
        "print(\"x2 * y2 = \"); print(np.multiply(x2,y2))"
      ],
      "execution_count": 0,
      "outputs": []
    },
    {
      "cell_type": "markdown",
      "metadata": {
        "id": "VUFQXD3g28RQ",
        "colab_type": "text"
      },
      "source": [
        "**NOTE :** Here as you can see, matrix multiplication isn't actually possible and we actually just get a matrix where `x2[i,j] * y2[1,j]` is the output. "
      ]
    },
    {
      "cell_type": "code",
      "metadata": {
        "scrolled": true,
        "id": "f3j12fd328RR",
        "colab_type": "code",
        "colab": {}
      },
      "source": [
        "x2 = np.array([[1,2,3],[2,3,4]])\n",
        "y2 = np.array([[3,4,5],[4,5,6]])\n",
        "print(np.matmul(x2,y2))"
      ],
      "execution_count": 0,
      "outputs": []
    },
    {
      "cell_type": "code",
      "metadata": {
        "scrolled": true,
        "id": "bHebnXEe28RU",
        "colab_type": "code",
        "colab": {}
      },
      "source": [
        "x2 = np.array([[1,2,3],[2,3,4]])\n",
        "y2 = np.array([[3,4],[4,5],[5,6]])\n",
        "print(np.matmul(x2,y2))"
      ],
      "execution_count": 0,
      "outputs": []
    },
    {
      "cell_type": "markdown",
      "metadata": {
        "id": "mwkYpYl628RW",
        "colab_type": "text"
      },
      "source": [
        "**Covariance**\n",
        "\n",
        "Covariance indicates the level to which two variables vary together."
      ]
    },
    {
      "cell_type": "markdown",
      "metadata": {
        "id": "vqRr6o8T28RX",
        "colab_type": "text"
      },
      "source": [
        "If we examine N-dimensional samples, `X = [x_1, x_2, ... x_N]^T`, then the covariance matrix element `C_{ij}` is the covariance of `x_i` and `x_j`. The element `C_{ii}` is the variance of `x_i`."
      ]
    },
    {
      "cell_type": "code",
      "metadata": {
        "scrolled": true,
        "id": "rVAzTtp728RY",
        "colab_type": "code",
        "colab": {}
      },
      "source": [
        "x2 = np.array([[0,1,2],[2,1,0]])\n",
        "print(x2)"
      ],
      "execution_count": 0,
      "outputs": []
    },
    {
      "cell_type": "markdown",
      "metadata": {
        "id": "u9gFgwdq28Rb",
        "colab_type": "text"
      },
      "source": [
        "Note here how `x[0]` increases and `x[1]` decreases. "
      ]
    },
    {
      "cell_type": "markdown",
      "metadata": {
        "id": "he9vK2YW28Rb",
        "colab_type": "text"
      },
      "source": [
        "This is also shown by the covariance matrix : "
      ]
    },
    {
      "cell_type": "code",
      "metadata": {
        "scrolled": true,
        "id": "9aN-I6J628Rc",
        "colab_type": "code",
        "colab": {}
      },
      "source": [
        "print(np.cov(x2))"
      ],
      "execution_count": 0,
      "outputs": []
    },
    {
      "cell_type": "markdown",
      "metadata": {
        "id": "npNnkcm128Rg",
        "colab_type": "text"
      },
      "source": [
        "Note that again, `C[0,1]` and `C[1,0]` which shows the correlation between `x[0]` and `x[1]`, is negative.\n",
        "\n",
        "However `C[0,0]` and `C[1,1]` which show the correlation between `x[0]` and `x[0]` and `x[1]` and `x[1]` is 1. \n"
      ]
    },
    {
      "cell_type": "markdown",
      "metadata": {
        "id": "Fx978VKr28Rh",
        "colab_type": "text"
      },
      "source": [
        "Note how x and y are combined:"
      ]
    },
    {
      "cell_type": "code",
      "metadata": {
        "scrolled": true,
        "id": "D9nw-f5028Ri",
        "colab_type": "code",
        "colab": {}
      },
      "source": [
        "x = np.array([-2.1, -1,  4.3])\n",
        "y = np.array([3,  1.1,  0.12])\n",
        "X = np.stack((x, y))\n",
        "print(np.cov(X))\n",
        "# To check \n",
        "print(np.cov(x))\n",
        "print(np.cov(y))"
      ],
      "execution_count": 0,
      "outputs": []
    },
    {
      "cell_type": "markdown",
      "metadata": {
        "id": "igBL9vJK28Rl",
        "colab_type": "text"
      },
      "source": [
        "**Correlation**"
      ]
    },
    {
      "cell_type": "markdown",
      "metadata": {
        "id": "dcNIMe8728Rl",
        "colab_type": "text"
      },
      "source": [
        "The term \"correlation\" refers to a mutual relationship or association between quantities.\n",
        "It is a standardised form of Covariance. \n",
        "\n",
        "Correlation Coeffecients take values between `[-1,1]`\n",
        "\n",
        "In Numpy (and in general), Correlation Matrix refers to the normalised version of a Covariance matrix. "
      ]
    },
    {
      "cell_type": "code",
      "metadata": {
        "scrolled": true,
        "id": "EyIQQsjO28Rm",
        "colab_type": "code",
        "outputId": "114ce6e9-ff26-498d-8c86-4371755ee3ab",
        "colab": {
          "base_uri": "https://localhost:8080/",
          "height": 52
        }
      },
      "source": [
        "x = np.array([-2.1, -1,  4.3])\n",
        "y = np.array([3,  1.1,  0.12])\n",
        "X = np.stack((x, y))\n",
        "print(np.corrcoef(X))"
      ],
      "execution_count": 0,
      "outputs": [
        {
          "output_type": "stream",
          "text": [
            "[[ 1.         -0.85535781]\n",
            " [-0.85535781  1.        ]]\n"
          ],
          "name": "stdout"
        }
      ]
    }
  ]
}
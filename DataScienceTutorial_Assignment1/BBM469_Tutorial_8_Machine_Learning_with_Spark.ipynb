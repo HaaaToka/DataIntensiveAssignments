{
  "nbformat": 4,
  "nbformat_minor": 0,
  "metadata": {
    "colab": {
      "name": "BBM469_Tutorial_8_Machine_Learning with Spark.ipynb",
      "provenance": [],
      "authorship_tag": "ABX9TyPt+58dJrJP1y5YYL3cDDet",
      "include_colab_link": true
    },
    "kernelspec": {
      "name": "python3",
      "display_name": "Python 3"
    }
  },
  "cells": [
    {
      "cell_type": "markdown",
      "metadata": {
        "id": "view-in-github",
        "colab_type": "text"
      },
      "source": [
        "<a href=\"https://colab.research.google.com/github/aucan/DataScienceTutorials/blob/master/BBM469_Tutorial_8_Machine_Learning_with_Spark.ipynb\" target=\"_parent\"><img src=\"https://colab.research.google.com/assets/colab-badge.svg\" alt=\"Open In Colab\"/></a>"
      ]
    },
    {
      "cell_type": "markdown",
      "metadata": {
        "id": "Hn9xpRGlF8Rv",
        "colab_type": "text"
      },
      "source": [
        "# BBM469-Data Intensive Applications Lab. Machine Learning with Spark\n",
        "\n",
        "---\n",
        "\n"
      ]
    },
    {
      "cell_type": "markdown",
      "metadata": {
        "id": "15yLVsGsIbme",
        "colab_type": "text"
      },
      "source": [
        "**The Aim**\n",
        "\n",
        "In this document, you will be given for some tutorials and headlines for you to learn the basics of Apache Spark."
      ]
    },
    {
      "cell_type": "markdown",
      "metadata": {
        "id": "TnWTEJ0dIiIW",
        "colab_type": "text"
      },
      "source": [
        "**Apache Spark**"
      ]
    },
    {
      "cell_type": "markdown",
      "metadata": {
        "id": "02Xb_GkfG3jF",
        "colab_type": "text"
      },
      "source": [
        "Apache Spark is a fast and general-purpose cluster computing system. It provides high-level APIs in Java, Scala, Python and R, and an optimized engine that supports general execution graphs. It also supports a rich set of higher-level tools including Spark SQL for SQL and structured data processing, MLlib for machine learning, GraphX for graph processing, and Spark Streaming.\n",
        "\n",
        "Further more information: https://spark.apache.org/"
      ]
    },
    {
      "cell_type": "markdown",
      "metadata": {
        "id": "iuqpvhx9Jh5e",
        "colab_type": "text"
      },
      "source": [
        "**Running Pyspark in Colab**\n",
        "\n",
        "To run spark in Colab, we need to first install all the dependencies in Colab environment i.e. Apache Spark 2.4.5 with hadoop 2.7, Java 8 and Findspark to locate the spark in the system. "
      ]
    },
    {
      "cell_type": "markdown",
      "metadata": {
        "id": "NSNFy0gSF8HD",
        "colab_type": "text"
      },
      "source": [
        "First, install the dependencies:"
      ]
    },
    {
      "cell_type": "code",
      "metadata": {
        "id": "fSBRCj74tmma",
        "colab_type": "code",
        "colab": {}
      },
      "source": [
        "!apt-get install openjdk-8-jdk-headless -qq > /dev/null\n",
        "!wget -q https://downloads.apache.org/spark/spark-2.4.5/spark-2.4.5-bin-hadoop2.7.tgz\n",
        "!tar xf spark-2.4.5-bin-hadoop2.7.tgz\n",
        "!pip install -q findspark"
      ],
      "execution_count": 0,
      "outputs": []
    },
    {
      "cell_type": "markdown",
      "metadata": {
        "id": "NWdHdtlYGJTu",
        "colab_type": "text"
      },
      "source": [
        " Set the location of Java and Spark by running the following code:\n",
        "\n"
      ]
    },
    {
      "cell_type": "code",
      "metadata": {
        "id": "j4V0y9g2txv6",
        "colab_type": "code",
        "colab": {}
      },
      "source": [
        "import os\n",
        "os.environ[\"JAVA_HOME\"] = \"/usr/lib/jvm/java-8-openjdk-amd64\"\n",
        "os.environ[\"SPARK_HOME\"] = \"/content/spark-2.4.5-bin-hadoop2.7\""
      ],
      "execution_count": 0,
      "outputs": []
    },
    {
      "cell_type": "markdown",
      "metadata": {
        "id": "X_s4eqkXGWO4",
        "colab_type": "text"
      },
      "source": [
        "Test your installation:"
      ]
    },
    {
      "cell_type": "code",
      "metadata": {
        "id": "f8QupaNxtz_e",
        "colab_type": "code",
        "colab": {}
      },
      "source": [
        "import findspark\n",
        "findspark.init()\n",
        "from pyspark.sql import SparkSession\n",
        "spark = SparkSession.builder.master(\"local[*]\").getOrCreate()"
      ],
      "execution_count": 0,
      "outputs": []
    },
    {
      "cell_type": "markdown",
      "metadata": {
        "id": "DcFZRR8UG9bh",
        "colab_type": "text"
      },
      "source": [
        "**Clustering Example**"
      ]
    },
    {
      "cell_type": "markdown",
      "metadata": {
        "id": "UUw5yO7tJSQH",
        "colab_type": "text"
      },
      "source": [
        "**K-means**\n",
        "\n",
        "K-means is one of the most commonly used clustering algorithms that clusters the data points into a predefined number of clusters. Further more information: https://spark.apache.org/docs/latest/ml-clustering.html"
      ]
    },
    {
      "cell_type": "markdown",
      "metadata": {
        "id": "M6NAKl0wH1af",
        "colab_type": "text"
      },
      "source": [
        "import the following libraries."
      ]
    },
    {
      "cell_type": "code",
      "metadata": {
        "id": "ui1EyTGXt71v",
        "colab_type": "code",
        "colab": {}
      },
      "source": [
        "import numpy as np\n",
        "import pandas as pd\n",
        "import matplotlib.pyplot as plt\n",
        "from mpl_toolkits.mplot3d import Axes3D\n",
        "from sklearn.datasets.samples_generator import make_blobs\n",
        "from pyspark import SparkContext\n",
        "from pyspark.ml.clustering import KMeans\n",
        "from pyspark.ml.feature import VectorAssembler\n",
        "from pyspark.sql import SQLContext\n",
        "\n",
        "%matplotlib inline"
      ],
      "execution_count": 0,
      "outputs": []
    },
    {
      "cell_type": "markdown",
      "metadata": {
        "id": "cVJi2RNIKejy",
        "colab_type": "text"
      },
      "source": [
        "Generate some input data and write the dataset as a CSV file."
      ]
    },
    {
      "cell_type": "code",
      "metadata": {
        "id": "7HvZ-C49uNfi",
        "colab_type": "code",
        "colab": {}
      },
      "source": [
        "n_samples=10000\n",
        "n_features=3\n",
        "X, y = make_blobs(n_samples=n_samples, centers=10, n_features=n_features, random_state=42)\n",
        "\n",
        "# add a row index as a string\n",
        "pddf = pd.DataFrame(X, columns=['x', 'y', 'z'])\n",
        "pddf['id'] = 'row'+pddf.index.astype(str)\n",
        "\n",
        "#move it first (left)\n",
        "cols = list(pddf)\n",
        "cols.insert(0, cols.pop(cols.index('id')))\n",
        "pddf = pddf.ix[:, cols]\n",
        "pddf.head()\n",
        "\n",
        "# save the ndarray as a csv file\n",
        "pddf.to_csv('input.csv', index=False)"
      ],
      "execution_count": 0,
      "outputs": []
    },
    {
      "cell_type": "markdown",
      "metadata": {
        "id": "ITK9mNuH0vOw",
        "colab_type": "text"
      },
      "source": [
        "List your files"
      ]
    },
    {
      "cell_type": "code",
      "metadata": {
        "id": "yV9s8qqHnNjk",
        "colab_type": "code",
        "colab": {}
      },
      "source": [
        "!ls"
      ],
      "execution_count": 0,
      "outputs": []
    },
    {
      "cell_type": "markdown",
      "metadata": {
        "id": "N02CbC16KuC6",
        "colab_type": "text"
      },
      "source": [
        "Visualize the data."
      ]
    },
    {
      "cell_type": "code",
      "metadata": {
        "id": "2QszSThDudMF",
        "colab_type": "code",
        "colab": {}
      },
      "source": [
        "threedee = plt.figure(figsize=(12,10)).gca(projection='3d')\n",
        "threedee.scatter(X[:,0], X[:,1], X[:,2], c=y)\n",
        "threedee.set_xlabel('x')\n",
        "threedee.set_ylabel('y')\n",
        "threedee.set_zlabel('z')\n",
        "plt.show()"
      ],
      "execution_count": 0,
      "outputs": []
    },
    {
      "cell_type": "markdown",
      "metadata": {
        "id": "Wy0LNsocLOlF",
        "colab_type": "text"
      },
      "source": [
        "This is a visualization of the data we just generated, where the true type of each data point is represented by a unique color."
      ]
    },
    {
      "cell_type": "markdown",
      "metadata": {
        "id": "AY8S-25KLp5-",
        "colab_type": "text"
      },
      "source": [
        "**SQL context**\n",
        "\n",
        "Spark SQL is a Spark module for structured data processing. Unlike the basic Spark RDD API, the interfaces provided by Spark SQL provide Spark with more information about the structure of both the data and the computation being performed. Further more information: https://spark.apache.org/docs/latest/sql-programming-guide.html\n",
        "\n",
        "What this means is that we can use Spark dataframes, which are similar to Pandas dataframes, and is a dataset organized into named columns."
      ]
    },
    {
      "cell_type": "markdown",
      "metadata": {
        "id": "lxSncwQv_RAG",
        "colab_type": "text"
      },
      "source": [
        "Create sqlContext"
      ]
    },
    {
      "cell_type": "code",
      "metadata": {
        "id": "IsDbES0bujgB",
        "colab_type": "code",
        "colab": {}
      },
      "source": [
        "from pyspark.sql import SQLContext\n",
        "sc =SparkContext.getOrCreate()\n",
        "sqlContext = SQLContext(sc)"
      ],
      "execution_count": 0,
      "outputs": []
    },
    {
      "cell_type": "markdown",
      "metadata": {
        "id": "0OHllA6SMgDR",
        "colab_type": "text"
      },
      "source": [
        "**Read in data from CSV into a Spark data frame**\n",
        "\n",
        "The data contains four columns, 'id', 'x', 'y', 'z', and it is the latter three that we want to use as features in our clustering model."
      ]
    },
    {
      "cell_type": "code",
      "metadata": {
        "id": "c8IJGKjuuyuu",
        "colab_type": "code",
        "colab": {}
      },
      "source": [
        "FEATURES_COL = ['x', 'y', 'z']\n",
        "path = 'input.csv'"
      ],
      "execution_count": 0,
      "outputs": []
    },
    {
      "cell_type": "code",
      "metadata": {
        "id": "RnzzZWzZu21h",
        "colab_type": "code",
        "colab": {}
      },
      "source": [
        "df = sqlContext.read.csv(path, header=True)\n",
        "print (df)\n",
        "df.show()"
      ],
      "execution_count": 0,
      "outputs": []
    },
    {
      "cell_type": "markdown",
      "metadata": {
        "id": "iK__s1QSOFv0",
        "colab_type": "text"
      },
      "source": [
        "**Convert all data columns to float**\n",
        "\n",
        "The dataframe consists now of four columns of strings. Converting all data to float is possible in a single line. However this would make the 'id' column filled with null, or we would have to omit it:"
      ]
    },
    {
      "cell_type": "code",
      "metadata": {
        "id": "kDy8gAvtv8-n",
        "colab_type": "code",
        "colab": {}
      },
      "source": [
        "df_feat = df.select(*(df[c].cast(\"float\").alias(c) for c in df.columns[1:]))\n",
        "df_feat.show()"
      ],
      "execution_count": 0,
      "outputs": []
    },
    {
      "cell_type": "markdown",
      "metadata": {
        "id": "L_IPDU5KOl44",
        "colab_type": "text"
      },
      "source": [
        "Since we know which columns need to be converted, we get a cleaner result by converting those one by one."
      ]
    },
    {
      "cell_type": "code",
      "metadata": {
        "id": "JxHSS7dBwBJ-",
        "colab_type": "code",
        "colab": {}
      },
      "source": [
        "for col in df.columns:\n",
        "    if col in FEATURES_COL:\n",
        "        df = df.withColumn(col,df[col].cast('float'))\n",
        "df.show()"
      ],
      "execution_count": 0,
      "outputs": []
    },
    {
      "cell_type": "markdown",
      "metadata": {
        "id": "U92SE2P4O2rS",
        "colab_type": "text"
      },
      "source": [
        "Drop the null values"
      ]
    },
    {
      "cell_type": "code",
      "metadata": {
        "id": "OaJ-x3RowGgB",
        "colab_type": "code",
        "colab": {}
      },
      "source": [
        "df = df.na.drop()\n",
        "df.show()"
      ],
      "execution_count": 0,
      "outputs": []
    },
    {
      "cell_type": "markdown",
      "metadata": {
        "id": "K5YWhSifO_gC",
        "colab_type": "text"
      },
      "source": [
        "**Create a features column to be used in the clustering**\n",
        "\n",
        "Spark's implementation of KMeans is a bit different from for example scikit-learn's version. We need to store all features as an array of floats, and store this array as a column called \"features\". Since we do no longer need the original columns we filter them out with a select statement."
      ]
    },
    {
      "cell_type": "code",
      "metadata": {
        "id": "iz8ZsJ7RwJXY",
        "colab_type": "code",
        "colab": {}
      },
      "source": [
        "vecAssembler = VectorAssembler(inputCols=FEATURES_COL, outputCol=\"features\")\n",
        "df_kmeans = vecAssembler.transform(df).select('id', 'features')\n",
        "df_kmeans.show()"
      ],
      "execution_count": 0,
      "outputs": []
    },
    {
      "cell_type": "markdown",
      "metadata": {
        "id": "uE0z3MbkPaKG",
        "colab_type": "text"
      },
      "source": [
        "**Optimize choice of k**"
      ]
    },
    {
      "cell_type": "markdown",
      "metadata": {
        "id": "R4k-lmdPPaD9",
        "colab_type": "text"
      },
      "source": [
        "To optimize k we cluster a fraction of the data for different choices of k and look for an \"elbow\" in the cost function."
      ]
    },
    {
      "cell_type": "code",
      "metadata": {
        "id": "LtpBMpoJwNNr",
        "colab_type": "code",
        "colab": {}
      },
      "source": [
        "cost = np.zeros(20)\n",
        "for k in range(2,20):\n",
        "    kmeans = KMeans().setK(k).setSeed(1).setFeaturesCol(\"features\")\n",
        "    model = kmeans.fit(df_kmeans.sample(False,0.1, seed=42))\n",
        "    cost[k] = model.computeCost(df_kmeans) # requires Spark 2.0 or later"
      ],
      "execution_count": 0,
      "outputs": []
    },
    {
      "cell_type": "code",
      "metadata": {
        "id": "Infg6-cmwPst",
        "colab_type": "code",
        "colab": {}
      },
      "source": [
        "fig, ax = plt.subplots(1,1, figsize =(8,6))\n",
        "ax.plot(range(2,20),cost[2:20])\n",
        "ax.set_xlabel('k')\n",
        "ax.set_ylabel('cost')"
      ],
      "execution_count": 0,
      "outputs": []
    },
    {
      "cell_type": "markdown",
      "metadata": {
        "id": "_PQlc4-zP0pb",
        "colab_type": "text"
      },
      "source": [
        "Look like there is very little gain after k=12, so we stick to that choice when processing the full data set."
      ]
    },
    {
      "cell_type": "markdown",
      "metadata": {
        "id": "eEbaXmTzQASe",
        "colab_type": "text"
      },
      "source": [
        "**Train the machine learning model**"
      ]
    },
    {
      "cell_type": "code",
      "metadata": {
        "id": "3QzrZWThwS48",
        "colab_type": "code",
        "colab": {}
      },
      "source": [
        "k = 12\n",
        "kmeans = KMeans().setK(k).setSeed(1).setFeaturesCol(\"features\")\n",
        "model = kmeans.fit(df_kmeans)\n",
        "centers = model.clusterCenters()\n",
        "\n",
        "print(\"Cluster Centers: \")\n",
        "for center in centers:\n",
        "    print(center)"
      ],
      "execution_count": 0,
      "outputs": []
    },
    {
      "cell_type": "markdown",
      "metadata": {
        "id": "k2CMc4AJQOEV",
        "colab_type": "text"
      },
      "source": [
        "**Assign clusters to event**\n",
        "\n",
        "We need to assign the individual rows to the nearest cluster centroid. That can be done with the transform method, which adds 'prediction' column to the dataframe. The prediction value is an integer between 0 and k, but it has no correlation to the y value of the input."
      ]
    },
    {
      "cell_type": "code",
      "metadata": {
        "id": "5kOIKsXNwVpB",
        "colab_type": "code",
        "colab": {}
      },
      "source": [
        "transformed = model.transform(df_kmeans).select('id', 'prediction')\n",
        "rows = transformed.collect()\n",
        "print(rows[:3])"
      ],
      "execution_count": 0,
      "outputs": []
    },
    {
      "cell_type": "markdown",
      "metadata": {
        "id": "aXjf5WPxRWHp",
        "colab_type": "text"
      },
      "source": [
        "From the rows returned by the collect method create a new dataframe using our SQL context."
      ]
    },
    {
      "cell_type": "code",
      "metadata": {
        "id": "iq5ZM4AawX81",
        "colab_type": "code",
        "colab": {}
      },
      "source": [
        "df_pred = sqlContext.createDataFrame(rows)\n",
        "df_pred.show()"
      ],
      "execution_count": 0,
      "outputs": []
    },
    {
      "cell_type": "markdown",
      "metadata": {
        "id": "nUKPFOpMR0Km",
        "colab_type": "text"
      },
      "source": [
        "Join the prediction with the original data"
      ]
    },
    {
      "cell_type": "code",
      "metadata": {
        "id": "THqrVpc-waeX",
        "colab_type": "code",
        "colab": {}
      },
      "source": [
        "df_pred = df_pred.join(df, 'id')\n",
        "df_pred.show()"
      ],
      "execution_count": 0,
      "outputs": []
    },
    {
      "cell_type": "markdown",
      "metadata": {
        "id": "AoWKP7zsR3j7",
        "colab_type": "text"
      },
      "source": [
        "Convert to Pandas dataframe"
      ]
    },
    {
      "cell_type": "code",
      "metadata": {
        "id": "NHZz78Fawc4Z",
        "colab_type": "code",
        "colab": {}
      },
      "source": [
        "pddf_pred = df_pred.toPandas().set_index('id')\n",
        "pddf_pred.head()"
      ],
      "execution_count": 0,
      "outputs": []
    },
    {
      "cell_type": "markdown",
      "metadata": {
        "id": "9RNYLW2cU4of",
        "colab_type": "text"
      },
      "source": [
        "Visualize the results"
      ]
    },
    {
      "cell_type": "code",
      "metadata": {
        "id": "i3qHfTX6wfu6",
        "colab_type": "code",
        "colab": {}
      },
      "source": [
        "threedee = plt.figure(figsize=(12,10)).gca(projection='3d')\n",
        "threedee.scatter(pddf_pred.x, pddf_pred.y, pddf_pred.z, c=pddf_pred.prediction)\n",
        "threedee.set_xlabel('x')\n",
        "threedee.set_ylabel('y')\n",
        "threedee.set_zlabel('z')\n",
        "plt.show()"
      ],
      "execution_count": 0,
      "outputs": []
    },
    {
      "cell_type": "markdown",
      "metadata": {
        "id": "b7XYa__EYPi7",
        "colab_type": "text"
      },
      "source": [
        "\n",
        "\n",
        "---\n",
        "\n"
      ]
    },
    {
      "cell_type": "markdown",
      "metadata": {
        "id": "PjbwtVDUYL7B",
        "colab_type": "text"
      },
      "source": [
        "**Classification Example**"
      ]
    },
    {
      "cell_type": "markdown",
      "metadata": {
        "id": "9J8KuTV2j0Q7",
        "colab_type": "text"
      },
      "source": [
        "Download the dataset into the colab"
      ]
    },
    {
      "cell_type": "code",
      "metadata": {
        "id": "eYODZD7Gb_3j",
        "colab_type": "code",
        "colab": {}
      },
      "source": [
        "import os\n",
        "import urllib.request\n",
        "urllib.request.urlretrieve('http://web.utk.edu/~wfeng1/spark/_static/WineData2.csv', 'WineData2.csv')"
      ],
      "execution_count": 0,
      "outputs": []
    },
    {
      "cell_type": "code",
      "metadata": {
        "id": "6ySP63h0jjX3",
        "colab_type": "code",
        "colab": {}
      },
      "source": [
        "!ls"
      ],
      "execution_count": 0,
      "outputs": []
    },
    {
      "cell_type": "markdown",
      "metadata": {
        "id": "DUcVMB5Poa8Y",
        "colab_type": "text"
      },
      "source": [
        "Load dataset"
      ]
    },
    {
      "cell_type": "code",
      "metadata": {
        "id": "m5pN_-tYkK_4",
        "colab_type": "code",
        "colab": {}
      },
      "source": [
        "df1 = spark.read.format(\"csv\").option(\"header\", \"true\").load(\"WineData2.csv\")\n",
        "df1.show(5)\n",
        "df1.printSchema()"
      ],
      "execution_count": 0,
      "outputs": []
    },
    {
      "cell_type": "code",
      "metadata": {
        "id": "VFsTYPa3rLc2",
        "colab_type": "code",
        "colab": {}
      },
      "source": [
        "COLS = ['fixed','volatile','citric','sugar','chlorides','free','total','density','pH','sulphates','alcohol','quality']"
      ],
      "execution_count": 0,
      "outputs": []
    },
    {
      "cell_type": "markdown",
      "metadata": {
        "id": "5vISz02EyCMV",
        "colab_type": "text"
      },
      "source": [
        "Convert all data columns to float"
      ]
    },
    {
      "cell_type": "code",
      "metadata": {
        "id": "XhHim8kdrnUN",
        "colab_type": "code",
        "colab": {}
      },
      "source": [
        "for col in df1.columns:\n",
        "    if col in COLS:\n",
        "        df1 = df1.withColumn(col,df1[col].cast('float'))\n",
        "df1.show()\n",
        "df1.printSchema()"
      ],
      "execution_count": 0,
      "outputs": []
    },
    {
      "cell_type": "code",
      "metadata": {
        "id": "K4DkIkrdsRLW",
        "colab_type": "code",
        "colab": {}
      },
      "source": [
        "# Convert to float format\n",
        "def string_to_float(x):\n",
        "    return float(x)\n",
        "\n",
        "\n",
        "def condition(r):\n",
        "    if (0<= r <= 4):\n",
        "        label = \"low\"\n",
        "    elif(4< r <= 6):\n",
        "        label = \"medium\"\n",
        "    else:\n",
        "        label = \"high\"\n",
        "    return label\n",
        "\n",
        "from pyspark.sql.functions import udf\n",
        "from pyspark.sql.types import StringType, DoubleType\n",
        "\n",
        "string_to_float_udf = udf(string_to_float, DoubleType())\n",
        "quality_udf = udf(lambda x: condition(x), StringType())\n",
        "\n",
        "df1 = df1.withColumn(\"quality\", quality_udf(\"quality\"))\n",
        "\n",
        "df1.show(5,True)\n",
        "df1.printSchema()"
      ],
      "execution_count": 0,
      "outputs": []
    },
    {
      "cell_type": "markdown",
      "metadata": {
        "id": "yATkPQ7Sqb4i",
        "colab_type": "text"
      },
      "source": [
        "Transform the dataset to DataFrame"
      ]
    },
    {
      "cell_type": "code",
      "metadata": {
        "id": "1gEYrQsApYWS",
        "colab_type": "code",
        "colab": {}
      },
      "source": [
        "from pyspark.ml.linalg import Vectors # !!!!caution: not from pyspark.mllib.linalg import Vectors\n",
        "from pyspark.ml import Pipeline\n",
        "from pyspark.ml.feature import IndexToString,StringIndexer, VectorIndexer\n",
        "from pyspark.ml.tuning import CrossValidator, ParamGridBuilder\n",
        "from pyspark.ml.evaluation import MulticlassClassificationEvaluator\n",
        "\n",
        "def transData(data):\n",
        "    return data.rdd.map(lambda r: [Vectors.dense(r[:-1]),r[-1]]).toDF(['features','label'])"
      ],
      "execution_count": 0,
      "outputs": []
    },
    {
      "cell_type": "code",
      "metadata": {
        "id": "otzdUC2qpkW2",
        "colab_type": "code",
        "colab": {}
      },
      "source": [
        "transformed = transData(df1)\n",
        "transformed.show(5)"
      ],
      "execution_count": 0,
      "outputs": []
    },
    {
      "cell_type": "markdown",
      "metadata": {
        "id": "dBj2fv50pqvU",
        "colab_type": "text"
      },
      "source": [
        "**Deal with Categorical Label and Variables**"
      ]
    },
    {
      "cell_type": "markdown",
      "metadata": {
        "id": "sRk--6Q4ykoW",
        "colab_type": "text"
      },
      "source": [
        "Index labels, adding metadata to the label column"
      ]
    },
    {
      "cell_type": "code",
      "metadata": {
        "id": "wdoZsP0ypvTw",
        "colab_type": "code",
        "colab": {}
      },
      "source": [
        "labelIndexer = StringIndexer(inputCol='label',\n",
        "                             outputCol='indexedLabel').fit(transformed)\n",
        "labelIndexer.transform(transformed).show(5, True)"
      ],
      "execution_count": 0,
      "outputs": []
    },
    {
      "cell_type": "markdown",
      "metadata": {
        "id": "ARIMB24WyrN4",
        "colab_type": "text"
      },
      "source": [
        "Automatically identify categorical features, and index them.\n",
        "Set maxCategories so features with > 4 distinct values are treated as continuous."
      ]
    },
    {
      "cell_type": "code",
      "metadata": {
        "id": "OxhHo6Ftp1dh",
        "colab_type": "code",
        "colab": {}
      },
      "source": [
        "featureIndexer =VectorIndexer(inputCol=\"features\", \\\n",
        "                              outputCol=\"indexedFeatures\", \\\n",
        "                              maxCategories=4).fit(transformed)\n",
        "featureIndexer.transform(transformed).show(5, True)"
      ],
      "execution_count": 0,
      "outputs": []
    },
    {
      "cell_type": "markdown",
      "metadata": {
        "id": "-wYZ1ZaVp6Sk",
        "colab_type": "text"
      },
      "source": [
        "Split the data to training and test data sets"
      ]
    },
    {
      "cell_type": "code",
      "metadata": {
        "id": "GEwQQOzzp5dS",
        "colab_type": "code",
        "colab": {}
      },
      "source": [
        "(trainingData, testData) = transformed.randomSplit([0.7, 0.3])\n",
        "\n",
        "trainingData.show(5,False)\n",
        "testData.show(5,False)"
      ],
      "execution_count": 0,
      "outputs": []
    },
    {
      "cell_type": "markdown",
      "metadata": {
        "id": "_MJ2Zo0jqTW-",
        "colab_type": "text"
      },
      "source": [
        "Fit Multinomial logisticRegression Classification Model"
      ]
    },
    {
      "cell_type": "code",
      "metadata": {
        "id": "EDOtQT6xqS7A",
        "colab_type": "code",
        "colab": {}
      },
      "source": [
        "from pyspark.ml.classification import LogisticRegression\n",
        "logr = LogisticRegression(featuresCol='indexedFeatures', labelCol='indexedLabel')"
      ],
      "execution_count": 0,
      "outputs": []
    },
    {
      "cell_type": "markdown",
      "metadata": {
        "id": "EiitQo8pqch8",
        "colab_type": "text"
      },
      "source": [
        "**Pipeline Architecture**"
      ]
    },
    {
      "cell_type": "markdown",
      "metadata": {
        "id": "3oOaBoCDy4s9",
        "colab_type": "text"
      },
      "source": [
        "Convert indexed labels back to original labels."
      ]
    },
    {
      "cell_type": "code",
      "metadata": {
        "id": "SYE75YvgqcCv",
        "colab_type": "code",
        "colab": {}
      },
      "source": [
        "labelConverter = IndexToString(inputCol=\"prediction\", outputCol=\"predictedLabel\",\n",
        "                               labels=labelIndexer.labels)"
      ],
      "execution_count": 0,
      "outputs": []
    },
    {
      "cell_type": "markdown",
      "metadata": {
        "id": "HOuvutmWy8Lg",
        "colab_type": "text"
      },
      "source": [
        "Chain indexers and tree in a Pipeline"
      ]
    },
    {
      "cell_type": "code",
      "metadata": {
        "id": "tyXa1efAqh15",
        "colab_type": "code",
        "colab": {}
      },
      "source": [
        "pipeline = Pipeline(stages=[labelIndexer, featureIndexer, logr,labelConverter])"
      ],
      "execution_count": 0,
      "outputs": []
    },
    {
      "cell_type": "markdown",
      "metadata": {
        "id": "MyVFFv5QzBa_",
        "colab_type": "text"
      },
      "source": [
        "Train model.  This also runs the indexers."
      ]
    },
    {
      "cell_type": "code",
      "metadata": {
        "id": "NjZr6SmLqlMI",
        "colab_type": "code",
        "colab": {}
      },
      "source": [
        "model = pipeline.fit(trainingData)"
      ],
      "execution_count": 0,
      "outputs": []
    },
    {
      "cell_type": "markdown",
      "metadata": {
        "id": "o9WXSWqZqp22",
        "colab_type": "text"
      },
      "source": [
        "Make predictions"
      ]
    },
    {
      "cell_type": "code",
      "metadata": {
        "id": "lSdCIGDcqqbV",
        "colab_type": "code",
        "colab": {}
      },
      "source": [
        "predictions = model.transform(testData)\n",
        "\n",
        "# Select example rows to display.\n",
        "predictions.select(\"features\",\"label\",\"predictedLabel\").show(5)"
      ],
      "execution_count": 0,
      "outputs": []
    },
    {
      "cell_type": "markdown",
      "metadata": {
        "id": "TLuaI2ziqupM",
        "colab_type": "text"
      },
      "source": [
        "**Evaluation**"
      ]
    },
    {
      "cell_type": "code",
      "metadata": {
        "id": "NxdKr5QGqwEh",
        "colab_type": "code",
        "colab": {}
      },
      "source": [
        "from pyspark.ml.evaluation import MulticlassClassificationEvaluator\n",
        "\n",
        "# Select (prediction, true label) and compute test error\n",
        "evaluator = MulticlassClassificationEvaluator(\n",
        "    labelCol=\"indexedLabel\", predictionCol=\"prediction\", metricName=\"accuracy\")\n",
        "accuracy = evaluator.evaluate(predictions)\n",
        "print(\"Accuracy = %g\" % (accuracy))\n",
        "print(\"Test Error = %g\" % (1.0 - accuracy))"
      ],
      "execution_count": 0,
      "outputs": []
    },
    {
      "cell_type": "markdown",
      "metadata": {
        "id": "vTdEqkQyq-Nr",
        "colab_type": "text"
      },
      "source": [
        "**Visualization**"
      ]
    },
    {
      "cell_type": "code",
      "metadata": {
        "id": "5l0Oz5Ykq-ur",
        "colab_type": "code",
        "colab": {}
      },
      "source": [
        "import numpy as np\n",
        "import itertools\n",
        "import matplotlib.pyplot as plt\n",
        "\n",
        "def plot_confusion_matrix(cm, classes,\n",
        "                          normalize=False,\n",
        "                          title='Confusion matrix',\n",
        "                          cmap=plt.cm.Blues):\n",
        "    \"\"\"\n",
        "    This function prints and plots the confusion matrix.\n",
        "    Normalization can be applied by setting `normalize=True`.\n",
        "    \"\"\"\n",
        "    if normalize:\n",
        "        cm = cm.astype('float') / cm.sum(axis=1)[:, np.newaxis]\n",
        "        print(\"Normalized confusion matrix\")\n",
        "    else:\n",
        "        print('Confusion matrix, without normalization')\n",
        "\n",
        "    print(cm)\n",
        "\n",
        "    plt.imshow(cm, interpolation='nearest', cmap=cmap)\n",
        "    plt.title(title)\n",
        "    plt.colorbar()\n",
        "    tick_marks = np.arange(len(classes))\n",
        "    plt.xticks(tick_marks, classes, rotation=45)\n",
        "    plt.yticks(tick_marks, classes)\n",
        "\n",
        "    fmt = '.2f' if normalize else 'd'\n",
        "    thresh = cm.max() / 2.\n",
        "    for i, j in itertools.product(range(cm.shape[0]), range(cm.shape[1])):\n",
        "        plt.text(j, i, format(cm[i, j], fmt),\n",
        "                 horizontalalignment=\"center\",\n",
        "                 color=\"white\" if cm[i, j] > thresh else \"black\")\n",
        "\n",
        "    plt.tight_layout()\n",
        "    plt.ylabel('True label')\n",
        "    plt.xlabel('Predicted label')"
      ],
      "execution_count": 0,
      "outputs": []
    },
    {
      "cell_type": "code",
      "metadata": {
        "id": "YwAlIWrdrDYX",
        "colab_type": "code",
        "colab": {}
      },
      "source": [
        "class_temp = predictions.select(\"label\").groupBy(\"label\")\\\n",
        "                        .count().sort('count', ascending=False).toPandas()\n",
        "class_temp = class_temp[\"label\"].values.tolist()\n",
        "class_names = map(str, class_temp)\n",
        "\n"
      ],
      "execution_count": 0,
      "outputs": []
    },
    {
      "cell_type": "markdown",
      "metadata": {
        "id": "0dvdl0mDzVwC",
        "colab_type": "text"
      },
      "source": [
        "**Confusion matrix**"
      ]
    },
    {
      "cell_type": "code",
      "metadata": {
        "id": "Ljv30359rFXs",
        "colab_type": "code",
        "colab": {}
      },
      "source": [
        "from sklearn.metrics import confusion_matrix\n",
        "y_true = predictions.select(\"label\")\n",
        "y_true = y_true.toPandas()\n",
        "\n",
        "y_pred = predictions.select(\"predictedLabel\")\n",
        "y_pred = y_pred.toPandas()\n",
        "\n",
        "cnf_matrix = confusion_matrix(y_true, y_pred,labels=list(class_names))\n",
        "cnf_matrix"
      ],
      "execution_count": 0,
      "outputs": []
    },
    {
      "cell_type": "markdown",
      "metadata": {
        "id": "yec9CYnVzdhg",
        "colab_type": "text"
      },
      "source": [
        "Plot non-normalized confusion matrix"
      ]
    },
    {
      "cell_type": "code",
      "metadata": {
        "id": "4A0iWJUurHT6",
        "colab_type": "code",
        "colab": {}
      },
      "source": [
        "plt.figure()\n",
        "plot_confusion_matrix(cnf_matrix, classes=list(class_names),\n",
        "                      title='Confusion matrix, without normalization')\n",
        "plt.show()"
      ],
      "execution_count": 0,
      "outputs": []
    },
    {
      "cell_type": "markdown",
      "metadata": {
        "id": "aeO8-vJWzhK0",
        "colab_type": "text"
      },
      "source": [
        "Plot normalized confusion matrix"
      ]
    },
    {
      "cell_type": "code",
      "metadata": {
        "id": "84KRLPVtrKpk",
        "colab_type": "code",
        "colab": {}
      },
      "source": [
        "\n",
        "plt.figure()\n",
        "plot_confusion_matrix(cnf_matrix, classes=list(class_names), normalize=True,\n",
        "                      title='Normalized confusion matrix')\n",
        "\n",
        "plt.show()"
      ],
      "execution_count": 0,
      "outputs": []
    }
  ]
}
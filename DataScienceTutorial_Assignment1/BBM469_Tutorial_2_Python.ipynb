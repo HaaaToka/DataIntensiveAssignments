{
  "nbformat": 4,
  "nbformat_minor": 0,
  "metadata": {
    "colab": {
      "name": "BBM469-Tutorial-2-Python.ipynb",
      "provenance": [],
      "include_colab_link": true
    },
    "kernelspec": {
      "name": "python3",
      "display_name": "Python 3"
    }
  },
  "cells": [
    {
      "cell_type": "markdown",
      "metadata": {
        "id": "view-in-github",
        "colab_type": "text"
      },
      "source": [
        "<a href=\"https://colab.research.google.com/github/aucan/DataScienceTutorials/blob/master/BBM469_Tutorial_2_Python.ipynb\" target=\"_parent\"><img src=\"https://colab.research.google.com/assets/colab-badge.svg\" alt=\"Open In Colab\"/></a>"
      ]
    },
    {
      "cell_type": "markdown",
      "metadata": {
        "id": "d7dHs3MluZQl",
        "colab_type": "text"
      },
      "source": [
        "# BBM469-Data Intensive Applications Lab. Python Tutorial\n",
        "---\n",
        "**The Aim**\n",
        "\n",
        "In this document, you will be given for some tutorials and headlines for you to learn the basic Python programming.\n"
      ]
    },
    {
      "cell_type": "markdown",
      "metadata": {
        "id": "spsGD959vBda",
        "colab_type": "text"
      },
      "source": [
        "**Useful Links**\n",
        "\n",
        "Python Basics\n",
        "*   https://web.cs.hacettepe.edu.tr/~bbm101/\n",
        "*   https://github.com/jerry-git/learn-python3\n",
        "\n",
        "\n",
        "\n"
      ]
    },
    {
      "cell_type": "markdown",
      "metadata": {
        "id": "MIvF7A5VBkDr",
        "colab_type": "text"
      },
      "source": [
        "**Exercises for Python Basics**\n",
        "\n",
        "We provide you some exercises for you to check your python understanding\n",
        "\n",
        "*   Basic types: Numbers, Strings"
      ]
    },
    {
      "cell_type": "code",
      "metadata": {
        "id": "1B15qSieByhC",
        "colab_type": "code",
        "outputId": "91f9b9b1-d078-4347-a814-da199fdb2b17",
        "colab": {
          "base_uri": "https://localhost:8080/",
          "height": 34
        }
      },
      "source": [
        "str1 = 'spam eggs' \n",
        "str1"
      ],
      "execution_count": 0,
      "outputs": [
        {
          "output_type": "execute_result",
          "data": {
            "text/plain": [
              "'spam eggs'"
            ]
          },
          "metadata": {
            "tags": []
          },
          "execution_count": 1
        }
      ]
    },
    {
      "cell_type": "code",
      "metadata": {
        "id": "c6LflIj1CQzq",
        "colab_type": "code",
        "outputId": "785322bf-37fc-43fb-a0c8-3be7779bc7a3",
        "colab": {
          "base_uri": "https://localhost:8080/",
          "height": 34
        }
      },
      "source": [
        "str2 = \"spam eggs\"\n",
        "str2"
      ],
      "execution_count": 0,
      "outputs": [
        {
          "output_type": "execute_result",
          "data": {
            "text/plain": [
              "'spam eggs'"
            ]
          },
          "metadata": {
            "tags": []
          },
          "execution_count": 2
        }
      ]
    },
    {
      "cell_type": "code",
      "metadata": {
        "id": "IlqHOR0ECfMK",
        "colab_type": "code",
        "outputId": "6cb4e350-5826-481e-dbd9-1ec6951b31ba",
        "colab": {
          "base_uri": "https://localhost:8080/",
          "height": 34
        }
      },
      "source": [
        "str3 = '\"Isn\\'t,\" they said.'\n",
        "str3"
      ],
      "execution_count": 0,
      "outputs": [
        {
          "output_type": "execute_result",
          "data": {
            "text/plain": [
              "'\"Isn\\'t,\" they said.'"
            ]
          },
          "metadata": {
            "tags": []
          },
          "execution_count": 3
        }
      ]
    },
    {
      "cell_type": "code",
      "metadata": {
        "id": "Ta4ghpwqCncy",
        "colab_type": "code",
        "outputId": "d1fbad6a-7c63-419f-e3da-fb01ad436f2d",
        "colab": {
          "base_uri": "https://localhost:8080/",
          "height": 34
        }
      },
      "source": [
        "a, b = 1, 2\n",
        "a, b"
      ],
      "execution_count": 0,
      "outputs": [
        {
          "output_type": "execute_result",
          "data": {
            "text/plain": [
              "(1, 2)"
            ]
          },
          "metadata": {
            "tags": []
          },
          "execution_count": 4
        }
      ]
    },
    {
      "cell_type": "code",
      "metadata": {
        "id": "NrYxQ18XqfEg",
        "colab_type": "code",
        "outputId": "3061e84d-7978-4c79-e1e2-7dc70aa76a5a",
        "colab": {
          "base_uri": "https://localhost:8080/",
          "height": 34
        }
      },
      "source": [
        "str4 = f'test {str1}:{a}({a+b})'\n",
        "str4"
      ],
      "execution_count": 0,
      "outputs": [
        {
          "output_type": "execute_result",
          "data": {
            "text/plain": [
              "'test spam eggs:1(3)'"
            ]
          },
          "metadata": {
            "tags": []
          },
          "execution_count": 5
        }
      ]
    },
    {
      "cell_type": "code",
      "metadata": {
        "id": "uV8xcv3VCsqS",
        "colab_type": "code",
        "outputId": "776461eb-1ad6-4872-8dcf-d36c7eaea592",
        "colab": {
          "base_uri": "https://localhost:8080/",
          "height": 34
        }
      },
      "source": [
        "b, a = a, b\n",
        "a, b"
      ],
      "execution_count": 0,
      "outputs": [
        {
          "output_type": "execute_result",
          "data": {
            "text/plain": [
              "(2, 1)"
            ]
          },
          "metadata": {
            "tags": []
          },
          "execution_count": 6
        }
      ]
    },
    {
      "cell_type": "code",
      "metadata": {
        "id": "LtDNdnHPCyXK",
        "colab_type": "code",
        "outputId": "2fab1bdc-f7d5-47c6-8217-1a7b1c68b18c",
        "colab": {
          "base_uri": "https://localhost:8080/",
          "height": 70
        }
      },
      "source": [
        "# Integer\n",
        "a = 1\n",
        "print(a)\n",
        "\n",
        "# Float\n",
        "b = 1.0\n",
        "print(b)\n",
        "\n",
        "# String\n",
        "c = \"Hello world\"\n",
        "print(c)"
      ],
      "execution_count": 0,
      "outputs": [
        {
          "output_type": "stream",
          "text": [
            "1\n",
            "1.0\n",
            "Hello world\n"
          ],
          "name": "stdout"
        }
      ]
    },
    {
      "cell_type": "markdown",
      "metadata": {
        "id": "F9plepQvDFfy",
        "colab_type": "text"
      },
      "source": [
        "*   Collections: Lists, Tuples, Dictionaries, Sets "
      ]
    },
    {
      "cell_type": "code",
      "metadata": {
        "id": "P9oI-d5SDMgj",
        "colab_type": "code",
        "outputId": "35c73631-119f-452a-a3aa-c077dc87ff0d",
        "colab": {
          "base_uri": "https://localhost:8080/",
          "height": 34
        }
      },
      "source": [
        "# List (array)\n",
        "e = [1, 2, 3]\n",
        "print(e[2]) # 3"
      ],
      "execution_count": 0,
      "outputs": [
        {
          "output_type": "stream",
          "text": [
            "3\n"
          ],
          "name": "stdout"
        }
      ]
    },
    {
      "cell_type": "code",
      "metadata": {
        "id": "t2dEe1M7DV6K",
        "colab_type": "code",
        "outputId": "e92eadf2-b744-47ee-98fa-131db8aa5acd",
        "colab": {
          "base_uri": "https://localhost:8080/",
          "height": 34
        }
      },
      "source": [
        "a = [ 3, 1, 2*2, 1, 10/2, 10-1 ]\n",
        "a"
      ],
      "execution_count": 0,
      "outputs": [
        {
          "output_type": "execute_result",
          "data": {
            "text/plain": [
              "[3, 1, 4, 1, 5.0, 9]"
            ]
          },
          "metadata": {
            "tags": []
          },
          "execution_count": 9
        }
      ]
    },
    {
      "cell_type": "code",
      "metadata": {
        "id": "0WqQ59SpDYq5",
        "colab_type": "code",
        "outputId": "4e1eff17-74bd-4e03-fee9-e0248649daef",
        "colab": {
          "base_uri": "https://localhost:8080/",
          "height": 34
        }
      },
      "source": [
        "b = [ 5, 3, 'hi' ]\n",
        "b"
      ],
      "execution_count": 0,
      "outputs": [
        {
          "output_type": "execute_result",
          "data": {
            "text/plain": [
              "[5, 3, 'hi']"
            ]
          },
          "metadata": {
            "tags": []
          },
          "execution_count": 10
        }
      ]
    },
    {
      "cell_type": "code",
      "metadata": {
        "id": "aMZBlGG7DbQy",
        "colab_type": "code",
        "outputId": "1701189b-7f69-4be8-8aab-15ae23bf2600",
        "colab": {
          "base_uri": "https://localhost:8080/",
          "height": 34
        }
      },
      "source": [
        "c = [ 4, 'a', a ]\n",
        "c"
      ],
      "execution_count": 0,
      "outputs": [
        {
          "output_type": "execute_result",
          "data": {
            "text/plain": [
              "[4, 'a', [3, 1, 4, 1, 5.0, 9]]"
            ]
          },
          "metadata": {
            "tags": []
          },
          "execution_count": 11
        }
      ]
    },
    {
      "cell_type": "code",
      "metadata": {
        "id": "YJW3v2yLDeQE",
        "colab_type": "code",
        "outputId": "5ae7faee-12ad-47bc-fa5c-52551166f8a7",
        "colab": {
          "base_uri": "https://localhost:8080/",
          "height": 34
        }
      },
      "source": [
        "a = [3, 4, 5]\n",
        "a"
      ],
      "execution_count": 0,
      "outputs": [
        {
          "output_type": "execute_result",
          "data": {
            "text/plain": [
              "[3, 4, 5]"
            ]
          },
          "metadata": {
            "tags": []
          },
          "execution_count": 12
        }
      ]
    },
    {
      "cell_type": "code",
      "metadata": {
        "id": "h2Qn37lbDl25",
        "colab_type": "code",
        "outputId": "da31287d-c0c3-4ac3-ca23-000da1bc67de",
        "colab": {
          "base_uri": "https://localhost:8080/",
          "height": 70
        }
      },
      "source": [
        "L = ['I did it all', 4, 'love']\n",
        "for i in range(len(L)):\n",
        "    print(L[i])"
      ],
      "execution_count": 0,
      "outputs": [
        {
          "output_type": "stream",
          "text": [
            "I did it all\n",
            "4\n",
            "love\n"
          ],
          "name": "stdout"
        }
      ]
    },
    {
      "cell_type": "code",
      "metadata": {
        "id": "ivLJXAKKDoRy",
        "colab_type": "code",
        "outputId": "9b753a21-96f5-4628-e4e7-86b8b3aa718c",
        "colab": {
          "base_uri": "https://localhost:8080/",
          "height": 87
        }
      },
      "source": [
        "Techs = ['MIT', 'Caltech']\n",
        "Ivys = ['Harvard', 'Yale', 'Brown']\n",
        "Univs = [Techs,Ivys]\n",
        "Univs1 = [['MIT','Caltech'],['Harvard','Yale','Brown']]\n",
        "print('Univs =', Univs)\n",
        "print('Univs1 =', Univs1)\n",
        "print(Univs == Univs1)\n",
        "#list functions\n",
        "'MIT' in Techs\n",
        "Techs.index('MIT')\n",
        "Techs.count('MIT')\n",
        "Techs.append('MIT')\n",
        "Techs.extend(Ivys)\n",
        "Techs.insert(1, 'HUBBM')\n",
        "Techs.remove('MIT')\n",
        "Techs.remove('MIT')\n",
        "Techs"
      ],
      "execution_count": 0,
      "outputs": [
        {
          "output_type": "stream",
          "text": [
            "Univs = [['MIT', 'Caltech'], ['Harvard', 'Yale', 'Brown']]\n",
            "Univs1 = [['MIT', 'Caltech'], ['Harvard', 'Yale', 'Brown']]\n",
            "True\n"
          ],
          "name": "stdout"
        },
        {
          "output_type": "execute_result",
          "data": {
            "text/plain": [
              "['HUBBM', 'Caltech', 'Harvard', 'Yale', 'Brown']"
            ]
          },
          "metadata": {
            "tags": []
          },
          "execution_count": 14
        }
      ]
    },
    {
      "cell_type": "code",
      "metadata": {
        "id": "NjyzU7hMEEJL",
        "colab_type": "code",
        "outputId": "fc689141-5f46-47be-9890-5a283b1e1671",
        "colab": {
          "base_uri": "https://localhost:8080/",
          "height": 167
        }
      },
      "source": [
        "Techs.remove('MIT')"
      ],
      "execution_count": 0,
      "outputs": [
        {
          "output_type": "error",
          "ename": "ValueError",
          "evalue": "ignored",
          "traceback": [
            "\u001b[0;31m---------------------------------------------------------------------------\u001b[0m",
            "\u001b[0;31mValueError\u001b[0m                                Traceback (most recent call last)",
            "\u001b[0;32m<ipython-input-15-1459e10f7c1f>\u001b[0m in \u001b[0;36m<module>\u001b[0;34m()\u001b[0m\n\u001b[0;32m----> 1\u001b[0;31m \u001b[0mTechs\u001b[0m\u001b[0;34m.\u001b[0m\u001b[0mremove\u001b[0m\u001b[0;34m(\u001b[0m\u001b[0;34m'MIT'\u001b[0m\u001b[0;34m)\u001b[0m\u001b[0;34m\u001b[0m\u001b[0;34m\u001b[0m\u001b[0m\n\u001b[0m",
            "\u001b[0;31mValueError\u001b[0m: list.remove(x): x not in list"
          ]
        }
      ]
    },
    {
      "cell_type": "code",
      "metadata": {
        "id": "IWm13gQTEMyq",
        "colab_type": "code",
        "outputId": "4fea8d80-2d9e-424e-d97d-f524f9cf6a17",
        "colab": {
          "base_uri": "https://localhost:8080/",
          "height": 34
        }
      },
      "source": [
        "un=Techs.pop(0)\n",
        "un"
      ],
      "execution_count": 0,
      "outputs": [
        {
          "output_type": "execute_result",
          "data": {
            "text/plain": [
              "'HUBBM'"
            ]
          },
          "metadata": {
            "tags": []
          },
          "execution_count": 16
        }
      ]
    },
    {
      "cell_type": "code",
      "metadata": {
        "id": "PQ6F31reERVi",
        "colab_type": "code",
        "outputId": "b9cd9f05-755a-49d2-b173-feb639828699",
        "colab": {
          "base_uri": "https://localhost:8080/",
          "height": 34
        }
      },
      "source": [
        "Techs[0] = 'MIT'\n",
        "Techs.sort()\n",
        "Techs.reverse()\n",
        "Techs"
      ],
      "execution_count": 0,
      "outputs": [
        {
          "output_type": "execute_result",
          "data": {
            "text/plain": [
              "['Yale', 'MIT', 'Harvard', 'Brown']"
            ]
          },
          "metadata": {
            "tags": []
          },
          "execution_count": 17
        }
      ]
    },
    {
      "cell_type": "code",
      "metadata": {
        "id": "zBxnXZzhEWlT",
        "colab_type": "code",
        "outputId": "9c946a35-8314-4966-a93c-bfc34d6877af",
        "colab": {
          "base_uri": "https://localhost:8080/",
          "height": 34
        }
      },
      "source": [
        "#list slicing\n",
        "test_list = ['e0', 'e1', 'e2', 'e3', 'e4', 'e5', 'e6']\n",
        "test_list"
      ],
      "execution_count": 0,
      "outputs": [
        {
          "output_type": "execute_result",
          "data": {
            "text/plain": [
              "['e0', 'e1', 'e2', 'e3', 'e4', 'e5', 'e6']"
            ]
          },
          "metadata": {
            "tags": []
          },
          "execution_count": 18
        }
      ]
    },
    {
      "cell_type": "code",
      "metadata": {
        "id": "xTR5ahy_JLO6",
        "colab_type": "code",
        "outputId": "7f2d425b-b6f1-4c87-d37d-ad07ae9943ab",
        "colab": {
          "base_uri": "https://localhost:8080/",
          "height": 34
        }
      },
      "source": [
        "test_list[2:]"
      ],
      "execution_count": 0,
      "outputs": [
        {
          "output_type": "execute_result",
          "data": {
            "text/plain": [
              "['e2', 'e3', 'e4', 'e5', 'e6']"
            ]
          },
          "metadata": {
            "tags": []
          },
          "execution_count": 19
        }
      ]
    },
    {
      "cell_type": "code",
      "metadata": {
        "id": "XoY1XEGJEfVz",
        "colab_type": "code",
        "outputId": "9a8aae06-a57d-410b-8097-9b0f8e1c6c46",
        "colab": {
          "base_uri": "https://localhost:8080/",
          "height": 34
        }
      },
      "source": [
        "test_list[:5]"
      ],
      "execution_count": 0,
      "outputs": [
        {
          "output_type": "execute_result",
          "data": {
            "text/plain": [
              "['e0', 'e1', 'e2', 'e3', 'e4']"
            ]
          },
          "metadata": {
            "tags": []
          },
          "execution_count": 20
        }
      ]
    },
    {
      "cell_type": "code",
      "metadata": {
        "id": "v89bE5q7EiMz",
        "colab_type": "code",
        "outputId": "d5b88774-8730-433c-cdda-211caf550951",
        "colab": {
          "base_uri": "https://localhost:8080/",
          "height": 34
        }
      },
      "source": [
        "test_list[-1]"
      ],
      "execution_count": 0,
      "outputs": [
        {
          "output_type": "execute_result",
          "data": {
            "text/plain": [
              "'e6'"
            ]
          },
          "metadata": {
            "tags": []
          },
          "execution_count": 21
        }
      ]
    },
    {
      "cell_type": "code",
      "metadata": {
        "id": "-1z4DBdwEmEU",
        "colab_type": "code",
        "outputId": "fdd214fd-1d7c-42fe-c315-12496f4ff122",
        "colab": {
          "base_uri": "https://localhost:8080/",
          "height": 34
        }
      },
      "source": [
        "test_list[-4:]"
      ],
      "execution_count": 0,
      "outputs": [
        {
          "output_type": "execute_result",
          "data": {
            "text/plain": [
              "['e3', 'e4', 'e5', 'e6']"
            ]
          },
          "metadata": {
            "tags": []
          },
          "execution_count": 22
        }
      ]
    },
    {
      "cell_type": "code",
      "metadata": {
        "id": "CeI81rZNEotT",
        "colab_type": "code",
        "outputId": "1f2e5bd7-735d-4391-9075-f27bf6fcc4a7",
        "colab": {
          "base_uri": "https://localhost:8080/",
          "height": 34
        }
      },
      "source": [
        "test_list[:-3]"
      ],
      "execution_count": 0,
      "outputs": [
        {
          "output_type": "execute_result",
          "data": {
            "text/plain": [
              "['e0', 'e1', 'e2', 'e3']"
            ]
          },
          "metadata": {
            "tags": []
          },
          "execution_count": 23
        }
      ]
    },
    {
      "cell_type": "code",
      "metadata": {
        "id": "NTfqMIjmEr7a",
        "colab_type": "code",
        "outputId": "7663409d-0a1a-4e09-a664-df625a218aa9",
        "colab": {
          "base_uri": "https://localhost:8080/",
          "height": 34
        }
      },
      "source": [
        "test_list[::-1]"
      ],
      "execution_count": 0,
      "outputs": [
        {
          "output_type": "execute_result",
          "data": {
            "text/plain": [
              "['e6', 'e5', 'e4', 'e3', 'e2', 'e1', 'e0']"
            ]
          },
          "metadata": {
            "tags": []
          },
          "execution_count": 24
        }
      ]
    },
    {
      "cell_type": "code",
      "metadata": {
        "id": "F3WI9HYyExhC",
        "colab_type": "code",
        "outputId": "124c7fab-c93f-42bd-ced4-62f8ea29dfe5",
        "colab": {
          "base_uri": "https://localhost:8080/",
          "height": 34
        }
      },
      "source": [
        "# Tuple (constant array)\n",
        "f = (1, 2, 3)\n",
        "print(f[0]) "
      ],
      "execution_count": 0,
      "outputs": [
        {
          "output_type": "stream",
          "text": [
            "1\n"
          ],
          "name": "stdout"
        }
      ]
    },
    {
      "cell_type": "code",
      "metadata": {
        "id": "aefMqI4zEzkV",
        "colab_type": "code",
        "outputId": "f1679507-68f5-42df-c8f6-3f7b5c571777",
        "colab": {
          "base_uri": "https://localhost:8080/",
          "height": 34
        }
      },
      "source": [
        "# Set\n",
        "g = {1, 1, 1, 2}\n",
        "print(g)\n",
        "odd = set([1, 3, 5])\n",
        "prime = set([2, 3, 5])\n",
        "empty = set([])"
      ],
      "execution_count": 0,
      "outputs": [
        {
          "output_type": "stream",
          "text": [
            "{1, 2}\n"
          ],
          "name": "stdout"
        }
      ]
    },
    {
      "cell_type": "code",
      "metadata": {
        "id": "OwJ_CUFaFAvs",
        "colab_type": "code",
        "outputId": "103ee02b-6202-4b93-ff54-fb64799ac9ef",
        "colab": {
          "base_uri": "https://localhost:8080/",
          "height": 34
        }
      },
      "source": [
        "k = odd & prime\n",
        "k"
      ],
      "execution_count": 0,
      "outputs": [
        {
          "output_type": "execute_result",
          "data": {
            "text/plain": [
              "{3, 5}"
            ]
          },
          "metadata": {
            "tags": []
          },
          "execution_count": 27
        }
      ]
    },
    {
      "cell_type": "code",
      "metadata": {
        "id": "XfQehRpyFCs6",
        "colab_type": "code",
        "outputId": "37d8bf16-24bd-454e-e86c-5baa97c9dbfd",
        "colab": {
          "base_uri": "https://localhost:8080/",
          "height": 34
        }
      },
      "source": [
        "j = odd | prime\n",
        "j"
      ],
      "execution_count": 0,
      "outputs": [
        {
          "output_type": "execute_result",
          "data": {
            "text/plain": [
              "{1, 2, 3, 5}"
            ]
          },
          "metadata": {
            "tags": []
          },
          "execution_count": 28
        }
      ]
    },
    {
      "cell_type": "code",
      "metadata": {
        "id": "GwQv9bKNFFas",
        "colab_type": "code",
        "outputId": "2e720dd1-d136-4893-bb79-af13df7975ed",
        "colab": {
          "base_uri": "https://localhost:8080/",
          "height": 34
        }
      },
      "source": [
        "m = odd - prime\n",
        "m"
      ],
      "execution_count": 0,
      "outputs": [
        {
          "output_type": "execute_result",
          "data": {
            "text/plain": [
              "{1}"
            ]
          },
          "metadata": {
            "tags": []
          },
          "execution_count": 29
        }
      ]
    },
    {
      "cell_type": "code",
      "metadata": {
        "id": "7YqTWBntFMcE",
        "colab_type": "code",
        "outputId": "7b6635f7-1440-4a64-ef87-2d2275614a12",
        "colab": {
          "base_uri": "https://localhost:8080/",
          "height": 34
        }
      },
      "source": [
        "odd.add(9)\n",
        "odd"
      ],
      "execution_count": 0,
      "outputs": [
        {
          "output_type": "execute_result",
          "data": {
            "text/plain": [
              "{1, 3, 5, 9}"
            ]
          },
          "metadata": {
            "tags": []
          },
          "execution_count": 30
        }
      ]
    },
    {
      "cell_type": "code",
      "metadata": {
        "id": "xOOxT6nIFWpL",
        "colab_type": "code",
        "outputId": "f3e2d78e-e4ca-49d7-ebf5-e0100bd15aa0",
        "colab": {
          "base_uri": "https://localhost:8080/",
          "height": 34
        }
      },
      "source": [
        "# Dictionary (hash table, hash map)\n",
        "g = {1: 'One', 2: 'Two', 3: 'Three'}\n",
        "print(g[1]) # 'One'"
      ],
      "execution_count": 0,
      "outputs": [
        {
          "output_type": "stream",
          "text": [
            "One\n"
          ],
          "name": "stdout"
        }
      ]
    },
    {
      "cell_type": "code",
      "metadata": {
        "id": "CK3gSpnGFabs",
        "colab_type": "code",
        "outputId": "47d21288-88de-4b2a-ad81-f7ffc068ab84",
        "colab": {
          "base_uri": "https://localhost:8080/",
          "height": 70
        }
      },
      "source": [
        "atomicnumber = {\"H\":1, \"Fe\":26, \"Au\":79}\n",
        "# Print out all the keys:\n",
        "for element_name in atomicnumber.keys():\n",
        "    print(element_name)"
      ],
      "execution_count": 0,
      "outputs": [
        {
          "output_type": "stream",
          "text": [
            "H\n",
            "Fe\n",
            "Au\n"
          ],
          "name": "stdout"
        }
      ]
    },
    {
      "cell_type": "code",
      "metadata": {
        "id": "yZbEI82pFdnj",
        "colab_type": "code",
        "outputId": "9c1b94fe-e5ec-48c0-89c3-1f0b3f2e14ea",
        "colab": {
          "base_uri": "https://localhost:8080/",
          "height": 70
        }
      },
      "source": [
        "# Another way to print out all the keys:\n",
        "for element_name in atomicnumber:\n",
        "    print(element_name)"
      ],
      "execution_count": 0,
      "outputs": [
        {
          "output_type": "stream",
          "text": [
            "H\n",
            "Fe\n",
            "Au\n"
          ],
          "name": "stdout"
        }
      ]
    },
    {
      "cell_type": "code",
      "metadata": {
        "id": "JRuNRkJ0FgZU",
        "colab_type": "code",
        "outputId": "7eaab7e8-7872-4dc9-a42f-47b918eeb19c",
        "colab": {
          "base_uri": "https://localhost:8080/",
          "height": 70
        }
      },
      "source": [
        "# Print out the keys and the values\n",
        "for (element_name, element_number) in atomicnumber.items():\n",
        "    print(\"name:\" ,element_name, \"number:\" ,element_number)"
      ],
      "execution_count": 0,
      "outputs": [
        {
          "output_type": "stream",
          "text": [
            "name: H number: 1\n",
            "name: Fe number: 26\n",
            "name: Au number: 79\n"
          ],
          "name": "stdout"
        }
      ]
    },
    {
      "cell_type": "code",
      "metadata": {
        "id": "mUrdpvHXFlXd",
        "colab_type": "code",
        "outputId": "172009f0-47ec-4a50-ff50-081330350ff2",
        "colab": {
          "base_uri": "https://localhost:8080/",
          "height": 34
        }
      },
      "source": [
        "atomicnumber.pop(\"H\")\n",
        "atomicnumber"
      ],
      "execution_count": 0,
      "outputs": [
        {
          "output_type": "execute_result",
          "data": {
            "text/plain": [
              "{'Au': 79, 'Fe': 26}"
            ]
          },
          "metadata": {
            "tags": []
          },
          "execution_count": 35
        }
      ]
    },
    {
      "cell_type": "code",
      "metadata": {
        "id": "XiQoStXfFvcM",
        "colab_type": "code",
        "outputId": "88613514-54ef-4d8e-fd03-2af1f80fa63b",
        "colab": {
          "base_uri": "https://localhost:8080/",
          "height": 34
        }
      },
      "source": [
        "atomicnumber[\"O\"] = 16\n",
        "atomicnumber"
      ],
      "execution_count": 0,
      "outputs": [
        {
          "output_type": "execute_result",
          "data": {
            "text/plain": [
              "{'Au': 79, 'Fe': 26, 'O': 16}"
            ]
          },
          "metadata": {
            "tags": []
          },
          "execution_count": 36
        }
      ]
    },
    {
      "cell_type": "code",
      "metadata": {
        "id": "MxGPc0FqF2ff",
        "colab_type": "code",
        "outputId": "3d56bdc4-5449-43b6-ec11-0e61095502bd",
        "colab": {
          "base_uri": "https://localhost:8080/",
          "height": 123
        }
      },
      "source": [
        "for i in range(5):\n",
        "    print(i)\n",
        "print(i)"
      ],
      "execution_count": 0,
      "outputs": [
        {
          "output_type": "stream",
          "text": [
            "0\n",
            "1\n",
            "2\n",
            "3\n",
            "4\n",
            "4\n"
          ],
          "name": "stdout"
        }
      ]
    },
    {
      "cell_type": "code",
      "metadata": {
        "id": "ws9df9f-F94M",
        "colab_type": "code",
        "outputId": "58b577ae-91de-48ce-953f-ef31ede04161",
        "colab": {
          "base_uri": "https://localhost:8080/",
          "height": 105
        }
      },
      "source": [
        "for i in range(0,9,2):\n",
        "    print(i)"
      ],
      "execution_count": 0,
      "outputs": [
        {
          "output_type": "stream",
          "text": [
            "0\n",
            "2\n",
            "4\n",
            "6\n",
            "8\n"
          ],
          "name": "stdout"
        }
      ]
    },
    {
      "cell_type": "code",
      "metadata": {
        "id": "xZ0tdkXPGEo9",
        "colab_type": "code",
        "outputId": "4b4f2ce0-f682-4131-800c-874a22378716",
        "colab": {
          "base_uri": "https://localhost:8080/",
          "height": 105
        }
      },
      "source": [
        "for i in range(10,0,-2):\n",
        "    print(i)"
      ],
      "execution_count": 0,
      "outputs": [
        {
          "output_type": "stream",
          "text": [
            "10\n",
            "8\n",
            "6\n",
            "4\n",
            "2\n"
          ],
          "name": "stdout"
        }
      ]
    },
    {
      "cell_type": "code",
      "metadata": {
        "id": "z3pzEaCrGrh9",
        "colab_type": "code",
        "outputId": "27b9e887-a579-4e9d-9cbb-7f03a2f80fe1",
        "colab": {
          "base_uri": "https://localhost:8080/",
          "height": 105
        }
      },
      "source": [
        "for f in [30,40,50,60,70]: \n",
        "    print(f, (f-32)/9.0*5)"
      ],
      "execution_count": 0,
      "outputs": [
        {
          "output_type": "stream",
          "text": [
            "30 -1.1111111111111112\n",
            "40 4.444444444444445\n",
            "50 10.0\n",
            "60 15.555555555555555\n",
            "70 21.11111111111111\n"
          ],
          "name": "stdout"
        }
      ]
    },
    {
      "cell_type": "code",
      "metadata": {
        "id": "aXIgO7bLrRQ-",
        "colab_type": "code",
        "outputId": "0b09962c-c441-4fb1-ffc7-b2291fab6331",
        "colab": {
          "base_uri": "https://localhost:8080/",
          "height": 70
        }
      },
      "source": [
        "for letter in 'hollywood':\n",
        "  if letter == 'l':\n",
        "    break\n",
        "  print ('Current Letter :', letter)\n",
        "print(f'Last letter : {letter}')"
      ],
      "execution_count": 0,
      "outputs": [
        {
          "output_type": "stream",
          "text": [
            "Current Letter : h\n",
            "Current Letter : o\n",
            "Last letter : l\n"
          ],
          "name": "stdout"
        }
      ]
    },
    {
      "cell_type": "code",
      "metadata": {
        "id": "ZhUcQiXGsaMl",
        "colab_type": "code",
        "outputId": "93631222-8383-4bc6-95b1-8a731bbfc4bd",
        "colab": {
          "base_uri": "https://localhost:8080/",
          "height": 230
        }
      },
      "source": [
        "for i in [0,1]: \n",
        "    print(\"Outer\", i) \n",
        "    for j in [2,3]: \n",
        "       print(\" Inner\", j) \n",
        "       print(\" Sum\", i+j) \n",
        "    print(\"Outer\", i)"
      ],
      "execution_count": 0,
      "outputs": [
        {
          "output_type": "stream",
          "text": [
            "Outer 0\n",
            " Inner 2\n",
            " Sum 2\n",
            " Inner 3\n",
            " Sum 3\n",
            "Outer 0\n",
            "Outer 1\n",
            " Inner 2\n",
            " Sum 3\n",
            " Inner 3\n",
            " Sum 4\n",
            "Outer 1\n"
          ],
          "name": "stdout"
        }
      ]
    },
    {
      "cell_type": "code",
      "metadata": {
        "id": "tcBIJyk9snEz",
        "colab_type": "code",
        "outputId": "4ae5846a-7855-4602-d552-bb35228d0b19",
        "colab": {
          "base_uri": "https://localhost:8080/",
          "height": 105
        }
      },
      "source": [
        "i = 0\n",
        "while i < 5:\n",
        "    print(i)\n",
        "    i += 1"
      ],
      "execution_count": 0,
      "outputs": [
        {
          "output_type": "stream",
          "text": [
            "0\n",
            "1\n",
            "2\n",
            "3\n",
            "4\n"
          ],
          "name": "stdout"
        }
      ]
    },
    {
      "cell_type": "code",
      "metadata": {
        "id": "3Xe4K4lxsvPM",
        "colab_type": "code",
        "colab": {}
      },
      "source": [
        "i = 0\n",
        "while i < 10:\n",
        "    print(i)\n",
        "    for j in range(0,10,2):\n",
        "        print(j)"
      ],
      "execution_count": 0,
      "outputs": []
    },
    {
      "cell_type": "code",
      "metadata": {
        "id": "QlgLrrF3tBE-",
        "colab_type": "code",
        "outputId": "6fdb1e5f-6b3a-4f6f-9814-fdcd0167ecf8",
        "colab": {
          "base_uri": "https://localhost:8080/",
          "height": 87
        }
      },
      "source": [
        "items = ['apple', 'banana', 'stawberry', 'watermelon']\n",
        "for item in items:\n",
        "    print(item)"
      ],
      "execution_count": 0,
      "outputs": [
        {
          "output_type": "stream",
          "text": [
            "apple\n",
            "banana\n",
            "stawberry\n",
            "watermelon\n"
          ],
          "name": "stdout"
        }
      ]
    },
    {
      "cell_type": "code",
      "metadata": {
        "id": "QHRgz9-3tGHi",
        "colab_type": "code",
        "outputId": "b6565cd4-12dd-43a3-b40e-fbe0bc77c1f9",
        "colab": {
          "base_uri": "https://localhost:8080/",
          "height": 87
        }
      },
      "source": [
        "for i, item in enumerate(items):\n",
        "    print(i, item)"
      ],
      "execution_count": 0,
      "outputs": [
        {
          "output_type": "stream",
          "text": [
            "0 apple\n",
            "1 banana\n",
            "2 stawberry\n",
            "3 watermelon\n"
          ],
          "name": "stdout"
        }
      ]
    },
    {
      "cell_type": "code",
      "metadata": {
        "id": "u-_JG5WwtKbp",
        "colab_type": "code",
        "outputId": "f6de297e-3642-4d67-9a69-ce51d720caa9",
        "colab": {
          "base_uri": "https://localhost:8080/",
          "height": 34
        }
      },
      "source": [
        "val = -10\n",
        "if val < 0:\n",
        "    result = - val\n",
        "else:\n",
        "    result = val\n",
        "print(result)"
      ],
      "execution_count": 0,
      "outputs": [
        {
          "output_type": "stream",
          "text": [
            "10\n"
          ],
          "name": "stdout"
        }
      ]
    },
    {
      "cell_type": "code",
      "metadata": {
        "id": "BaEFD8cFtRUe",
        "colab_type": "code",
        "outputId": "4294f91b-5d35-4369-d731-2b7e7e7b55f2",
        "colab": {
          "base_uri": "https://localhost:8080/",
          "height": 34
        }
      },
      "source": [
        "height = 75\n",
        "if height > 100: \n",
        "    print(\"space\") \n",
        "elif height > 50: \n",
        "    print(\"mesosphere\") \n",
        "elif height > 20: \n",
        "    print(\"stratosphere\") \n",
        "else: \n",
        "    print(\"troposphere\")"
      ],
      "execution_count": 0,
      "outputs": [
        {
          "output_type": "stream",
          "text": [
            "mesosphere\n"
          ],
          "name": "stdout"
        }
      ]
    },
    {
      "cell_type": "markdown",
      "metadata": {
        "id": "FrzcwM3JtVuL",
        "colab_type": "text"
      },
      "source": [
        "*   Functions"
      ]
    },
    {
      "cell_type": "code",
      "metadata": {
        "id": "756iIB0rtfE_",
        "colab_type": "code",
        "outputId": "b781a371-f24f-41ee-c904-df20bbbe3185",
        "colab": {
          "base_uri": "https://localhost:8080/",
          "height": 105
        }
      },
      "source": [
        "def square(x):\n",
        "    return x * x\n",
        "\n",
        "def fahr_to_cent(fahr):\n",
        "    return (fahr - 32) / 9.0 * 5\n",
        "\n",
        "def cent_to_fahr(cent):\n",
        "    result = cent / 5.0 * 9 + 32\n",
        "    return result\n",
        "\n",
        "def print_fahr_to_cent(fahr):\n",
        "    result = fahr_to_cent(fahr)\n",
        "    print(result)\n",
        "\n",
        "\n",
        "print(print_fahr_to_cent(32))\n",
        "print(square(3) + square(4))\n",
        "\n",
        "boiling = fahr_to_cent(212)\n",
        "print(boiling)\n",
        "cold = cent_to_fahr(-40)\n",
        "cold"
      ],
      "execution_count": 0,
      "outputs": [
        {
          "output_type": "stream",
          "text": [
            "0.0\n",
            "None\n",
            "25\n",
            "100.0\n"
          ],
          "name": "stdout"
        },
        {
          "output_type": "execute_result",
          "data": {
            "text/plain": [
              "-40.0"
            ]
          },
          "metadata": {
            "tags": []
          },
          "execution_count": 49
        }
      ]
    },
    {
      "cell_type": "code",
      "metadata": {
        "id": "JO2kfYJCuP2W",
        "colab_type": "code",
        "outputId": "c51e7129-f260-4b43-c670-0d8a96aacb13",
        "colab": {
          "base_uri": "https://localhost:8080/",
          "height": 230
        }
      },
      "source": [
        "import math\n",
        "\n",
        "def double(x):\n",
        "    return 2*x\n",
        "print(double)\n",
        "\n",
        "myfns = [math.sqrt, int, double, math.cos]\n",
        "print(myfns[1](3.14))\n",
        "print(myfns[2](3.14))\n",
        "print(myfns[3](3.14))\n",
        "\n",
        "def doubler():\n",
        "    return double\n",
        "\n",
        "print(doubler()(2.718))\n",
        "\n",
        "def f(x):\n",
        "    def g():\n",
        "        x = \"abc\"\n",
        "        print(\"x =\", x)\n",
        "    def h():\n",
        "        z = x\n",
        "        print(\"z =\", z)\n",
        "    x = x+1\n",
        "    print(\"x =\", x)\n",
        "    h()\n",
        "    g()\n",
        "    print(\"x =\", x)\n",
        "    return g\n",
        "\n",
        "x = 3\n",
        "z = f(x)\n",
        "print(\"x =\", x)\n",
        "print(\"z =\", z)\n",
        "z()"
      ],
      "execution_count": 0,
      "outputs": [
        {
          "output_type": "stream",
          "text": [
            "<function double at 0x7f4bdba84158>\n",
            "3\n",
            "6.28\n",
            "-0.9999987317275395\n",
            "5.436\n",
            "x = 4\n",
            "z = 4\n",
            "x = abc\n",
            "x = 4\n",
            "x = 3\n",
            "z = <function f.<locals>.g at 0x7f4bdba84730>\n",
            "x = abc\n"
          ],
          "name": "stdout"
        }
      ]
    }
  ]
}
{
  "nbformat": 4,
  "nbformat_minor": 0,
  "metadata": {
    "colab": {
      "name": "BBM469-Tutorial-1-Notebook.ipynb",
      "provenance": [],
      "include_colab_link": true
    },
    "kernelspec": {
      "name": "python3",
      "display_name": "Python 3"
    }
  },
  "cells": [
    {
      "cell_type": "markdown",
      "metadata": {
        "id": "view-in-github",
        "colab_type": "text"
      },
      "source": [
        "<a href=\"https://colab.research.google.com/github/aucan/DataScienceTutorials/blob/master/BBM469_Tutorial_1_Notebook.ipynb\" target=\"_parent\"><img src=\"https://colab.research.google.com/assets/colab-badge.svg\" alt=\"Open In Colab\"/></a>"
      ]
    },
    {
      "cell_type": "markdown",
      "metadata": {
        "id": "xKYcigObv_cH",
        "colab_type": "text"
      },
      "source": [
        "# BBM469-Data Intensive Applications Lab. Jupyter Notebook Tutorial\n",
        "---\n",
        "**The Aim**\n",
        "\n",
        "In this document, you will be given for some tutorials and headlines for you to learn the Jupyter Notebook and Colab."
      ]
    },
    {
      "cell_type": "markdown",
      "metadata": {
        "id": "fkGx5kS5wNLV",
        "colab_type": "text"
      },
      "source": [
        "**Installing Jupyter Notebook**\n",
        "\n",
        "**conda**\n",
        "\n",
        "Installing Python and Jupyter using the conda package manager. The [miniconda](https://docs.conda.io/en/latest/miniconda.html) distribution includes a minimal Python and conda installation.\n",
        "```\n",
        "conda install -c conda-forge notebook\n",
        "```\n",
        "\n",
        "**pip**\n",
        "\n",
        "If you use pip, you can install it with:\n",
        "\n",
        "```\n",
        "pip install notebook\n",
        "```\n",
        "\n",
        "**To run Jupyter Notebook**\n",
        "\n",
        "\n",
        "After you have installed the Jupyter Notebook on your computer, you are ready to run the notebook server. You can start the notebook server from the command line (using Terminal on Mac/Linux, Command Prompt on Windows) by running:\n",
        "\n",
        "\n",
        "\n",
        "```\n",
        "jupyter notebook\n",
        "```\n",
        "This will print some information about the notebook server in your terminal, including the URL of the web application (by default, http://localhost:8888):\n",
        "\n",
        "\n",
        "\n",
        "```\n",
        "$ jupyter notebook\n",
        "[I 08:58:24.417 NotebookApp] Serving notebooks from local directory: /Users/catherine\n",
        "[I 08:58:24.417 NotebookApp] 0 active kernels\n",
        "[I 08:58:24.417 NotebookApp] The Jupyter Notebook is running at: http://localhost:8888/\n",
        "[I 08:58:24.417 NotebookApp] Use Control-C to stop this server and shut down all kernels (twice to skip confirmation).\n",
        "```\n",
        "\n",
        "It will then open your default web browser to this URL.\n",
        "\n",
        "When the notebook opens in your browser, you will see the Notebook Dashboard, which will show a list of the notebooks, files, and subdirectories in the directory where the notebook server was started. Most of the time, you will wish to start a notebook server in the highest level directory containing notebooks. Often this will be your home directory.\n",
        "\n",
        "For further information : https://jupyter.readthedocs.io/en/latest/running.html\n",
        "\n"
      ]
    },
    {
      "cell_type": "markdown",
      "metadata": {
        "id": "-dqDWz_TzAxl",
        "colab_type": "text"
      },
      "source": [
        "<p><img alt=\"Colaboratory logo\" height=\"45px\" src=\"/img/colab_favicon.ico\" align=\"left\" hspace=\"10px\" vspace=\"0px\"></p>\n",
        "\n",
        "<h1>What is Colaboratory?</h1>\n",
        "\n",
        "Colaboratory, or \"Colab\" for short, allows you to write and execute Python in your browser, with \n",
        "- Zero configuration required\n",
        "- Free access to GPUs\n",
        "- Easy sharing\n",
        "\n",
        "Watch [Introduction to Colab](https://www.youtube.com/watch?v=inN8seMm7UI) \n",
        "\n",
        "[Overview of Colaboratory Features](https://colab.research.google.com/notebooks/basic_features_overview.ipynb)\n",
        "\n",
        "[Colab Tricks](https://rohitmidha23.github.io/Colab-Tricks/)"
      ]
    }
  ]
}
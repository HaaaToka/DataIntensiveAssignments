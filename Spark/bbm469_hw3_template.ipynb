{
  "nbformat": 4,
  "nbformat_minor": 0,
  "metadata": {
    "kernelspec": {
      "display_name": "Python 3",
      "language": "python",
      "name": "python3"
    },
    "language_info": {
      "codemirror_mode": {
        "name": "ipython",
        "version": 3
      },
      "file_extension": ".py",
      "mimetype": "text/x-python",
      "name": "python",
      "nbconvert_exporter": "python",
      "pygments_lexer": "ipython3",
      "version": "3.6.8"
    },
    "colab": {
      "name": "bbm469_hw3_template.ipynb",
      "provenance": []
    }
  },
  "cells": [
    {
      "cell_type": "markdown",
      "metadata": {
        "id": "hEQ1ErpCpGL8",
        "colab_type": "text"
      },
      "source": [
        "# Title of your assignment\n",
        "\n",
        "#### Student no : \n",
        "#### Student name : \n",
        "\n"
      ]
    },
    {
      "cell_type": "code",
      "metadata": {
        "id": "gFoSCM0ipGL-",
        "colab_type": "code",
        "colab": {}
      },
      "source": [
        ""
      ],
      "execution_count": 0,
      "outputs": []
    },
    {
      "cell_type": "markdown",
      "metadata": {
        "id": "8YmERLjspGMH",
        "colab_type": "text"
      },
      "source": [
        "## Table of Content\n",
        "\n",
        "[Purpose](#purpose)   \n",
        "[Data Understanding](#data_understanding)   \n",
        "[Data Preparation](#data_preparation)   \n",
        "[Modeling for Clustering](#clusteringmodel)  \n",
        "[Clustering results](#clustering)    \n",
        "[Modeling for Classification](#classificationmodel)  \n",
        "[Evaluation](#evaluation)  \n",
        "[References](#references)   \n"
      ]
    },
    {
      "cell_type": "markdown",
      "metadata": {
        "id": "clDpC-2kpGMR",
        "colab_type": "text"
      },
      "source": [
        "## Purpose <a class=\"anchor\" id=\"purpose\"></a>"
      ]
    },
    {
      "cell_type": "markdown",
      "metadata": {
        "id": "It7OxV2ypGMS",
        "colab_type": "text"
      },
      "source": [
        "Describe the aim of this assigment here. What are the questions you are trying to solve?"
      ]
    },
    {
      "cell_type": "markdown",
      "metadata": {
        "id": "JuZmF4SvpGMc",
        "colab_type": "text"
      },
      "source": [
        "## Data Understanding<a class=\"anchor\" id=\"data_understanding\"></a>"
      ]
    },
    {
      "cell_type": "code",
      "metadata": {
        "id": "kJENPg1KpGMd",
        "colab_type": "code",
        "colab": {}
      },
      "source": [
        ""
      ],
      "execution_count": 0,
      "outputs": []
    },
    {
      "cell_type": "markdown",
      "metadata": {
        "id": "iOGsFQmupGMj",
        "colab_type": "text"
      },
      "source": [
        "Provide analysis and statistical information about the data set. How much data is there? What are the data types? What are the largest, smallest and average values of these data?"
      ]
    },
    {
      "cell_type": "code",
      "metadata": {
        "id": "gSVhVQfBpGMk",
        "colab_type": "code",
        "colab": {}
      },
      "source": [
        ""
      ],
      "execution_count": 0,
      "outputs": []
    },
    {
      "cell_type": "markdown",
      "metadata": {
        "id": "nqcRgLxhpGMq",
        "colab_type": "text"
      },
      "source": [
        "## Data Preparation<a class=\"anchor\" id=\"data_preparation\"></a>"
      ]
    },
    {
      "cell_type": "code",
      "metadata": {
        "id": "Ap-mzlH1pGMs",
        "colab_type": "code",
        "colab": {}
      },
      "source": [
        ""
      ],
      "execution_count": 0,
      "outputs": []
    },
    {
      "cell_type": "markdown",
      "metadata": {
        "id": "npkR3Wq7pGMx",
        "colab_type": "text"
      },
      "source": [
        "Explain what kind of data transformations, feature selection and/or engineering you will perform."
      ]
    },
    {
      "cell_type": "code",
      "metadata": {
        "id": "PXaCg0CJpGMy",
        "colab_type": "code",
        "colab": {}
      },
      "source": [
        ""
      ],
      "execution_count": 0,
      "outputs": []
    },
    {
      "cell_type": "markdown",
      "metadata": {
        "id": "L5yg37-IpGM1",
        "colab_type": "text"
      },
      "source": [
        "## Modeling for Clustering <a class=\"anchor\" id=\"clusteringmodel\"></a>"
      ]
    },
    {
      "cell_type": "code",
      "metadata": {
        "id": "85XeuwetpGM2",
        "colab_type": "code",
        "colab": {}
      },
      "source": [
        ""
      ],
      "execution_count": 0,
      "outputs": []
    },
    {
      "cell_type": "markdown",
      "metadata": {
        "id": "vXXqce-LpGM4",
        "colab_type": "text"
      },
      "source": [
        "Which model will be used? Why? What parameters?"
      ]
    },
    {
      "cell_type": "markdown",
      "metadata": {
        "id": "KdjxO3EF9QWy",
        "colab_type": "text"
      },
      "source": [
        "## Clustering results<a class=\"anchor\" id=\"clustering\"></a>"
      ]
    },
    {
      "cell_type": "markdown",
      "metadata": {
        "id": "9yoeXEZG9X3Q",
        "colab_type": "text"
      },
      "source": [
        "Present the clustering results and graphs."
      ]
    },
    {
      "cell_type": "code",
      "metadata": {
        "id": "AhZqLaTy9lC0",
        "colab_type": "code",
        "colab": {}
      },
      "source": [
        ""
      ],
      "execution_count": 0,
      "outputs": []
    },
    {
      "cell_type": "markdown",
      "metadata": {
        "id": "86MgAti_9ljX",
        "colab_type": "text"
      },
      "source": [
        "Evaluate your Clustering model. Provide results, tables, charts, etc."
      ]
    },
    {
      "cell_type": "markdown",
      "metadata": {
        "id": "2ebDW7Pl9xkV",
        "colab_type": "text"
      },
      "source": [
        "\n",
        "## Modeling for Classification <a class=\"anchor\" id=\"classificationmodel\"></a>"
      ]
    },
    {
      "cell_type": "code",
      "metadata": {
        "id": "f0t3y0Gh-iY8",
        "colab_type": "code",
        "colab": {}
      },
      "source": [
        ""
      ],
      "execution_count": 0,
      "outputs": []
    },
    {
      "cell_type": "markdown",
      "metadata": {
        "id": "osXXZDxS-hVD",
        "colab_type": "text"
      },
      "source": [
        "Which model will be used? Why? What parameters?"
      ]
    },
    {
      "cell_type": "markdown",
      "metadata": {
        "id": "1Vxg2ptipGNZ",
        "colab_type": "text"
      },
      "source": [
        "## Evaluation<a class=\"anchor\" id=\"evaluation\"></a>"
      ]
    },
    {
      "cell_type": "code",
      "metadata": {
        "id": "jpLkiP1xpGNa",
        "colab_type": "code",
        "colab": {}
      },
      "source": [
        ""
      ],
      "execution_count": 0,
      "outputs": []
    },
    {
      "cell_type": "markdown",
      "metadata": {
        "id": "OA-dJVmFpGNy",
        "colab_type": "text"
      },
      "source": [
        "Evaluate your model. Provide results, tables, charts, etc."
      ]
    },
    {
      "cell_type": "code",
      "metadata": {
        "id": "qREn94uEpGNy",
        "colab_type": "code",
        "colab": {}
      },
      "source": [
        ""
      ],
      "execution_count": 0,
      "outputs": []
    },
    {
      "cell_type": "markdown",
      "metadata": {
        "id": "e-4dIZj6pGN4",
        "colab_type": "text"
      },
      "source": [
        "## References<a class=\"anchor\" id=\"references\"></a>"
      ]
    },
    {
      "cell_type": "code",
      "metadata": {
        "id": "2LhJNQYopGN5",
        "colab_type": "code",
        "colab": {}
      },
      "source": [
        ""
      ],
      "execution_count": 0,
      "outputs": []
    },
    {
      "cell_type": "markdown",
      "metadata": {
        "id": "i9WaoKuZpGN_",
        "colab_type": "text"
      },
      "source": [
        "List all the sources you used during your work.\n",
        "This includes jupyter notebooks you found on Internet.\n",
        "Remeber, your work may not be an original one. However, this document must be genuine. Copy and paste kind of deliveries will be punished badly."
      ]
    },
    {
      "cell_type": "code",
      "metadata": {
        "id": "g9j2kMIPpGOA",
        "colab_type": "code",
        "colab": {}
      },
      "source": [
        ""
      ],
      "execution_count": 0,
      "outputs": []
    },
    {
      "cell_type": "markdown",
      "metadata": {
        "id": "qe-ObfH2pGOH",
        "colab_type": "text"
      },
      "source": [
        "\n",
        "**Disclaimer!** <font color='grey'>This notebook was prepared by <student name(s)> as an assigment for the *BBM469 - Data Intensive Applications Laboratory* class. The notebook is available for educational purposes only. There is no guarantee on the correctness of the content provided as it is a student work.\n",
        "\n",
        "If you think there is any copyright violation, please let us [know](https://forms.gle/BNNRB2kR8ZHVEREq8). \n",
        "</font>"
      ]
    }
  ]
}
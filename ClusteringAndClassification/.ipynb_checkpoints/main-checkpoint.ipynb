{
 "cells": [
  {
   "cell_type": "code",
   "execution_count": 19,
   "metadata": {},
   "outputs": [],
   "source": [
    "import numpy as np\n",
    "import pandas as pd"
   ]
  },
  {
   "cell_type": "code",
   "execution_count": 12,
   "metadata": {},
   "outputs": [
    {
     "name": "stdout",
     "output_type": "stream",
     "text": [
      "[[0.52859003 0.74593532 0.158827   0.17054379 0.99607867]\n",
      " [0.49067699 0.257431   0.37540617 0.50896638 0.17441467]\n",
      " [0.44595332 0.46464585 0.4635476  0.69238715 0.71661436]\n",
      " [0.71500658 0.89136244 0.7493148  0.72965638 0.42363971]\n",
      " [0.89544501 0.78234944 0.50328805 0.40020743 0.09377571]]\n"
     ]
    }
   ],
   "source": [
    "# x is your dataset\n",
    "x = numpy.random.rand(100, 5)\n",
    "print(x[:5])"
   ]
  },
  {
   "cell_type": "code",
   "execution_count": 13,
   "metadata": {},
   "outputs": [
    {
     "name": "stdout",
     "output_type": "stream",
     "text": [
      "[[0.95356666 0.38273081 0.39602169 0.57236127 0.7122434 ]\n",
      " [0.67913496 0.62684442 0.6591665  0.78528741 0.55333614]\n",
      " [0.86888563 0.50651957 0.35813508 0.33038204 0.73472824]\n",
      " [0.3198737  0.24243205 0.36651594 0.40374347 0.94797591]\n",
      " [0.25491628 0.39479177 0.40104942 0.90339377 0.49231853]\n",
      " [0.11800338 0.70699473 0.48438557 0.03708343 0.41393541]\n",
      " [0.79560559 0.22852563 0.40319384 0.25306494 0.10656011]\n",
      " [0.8751104  0.88800406 0.33603705 0.56275863 0.08159423]\n",
      " [0.62728951 0.81477765 0.76948636 0.85317634 0.79774342]\n",
      " [0.04839654 0.04860993 0.97167154 0.59141097 0.50044303]\n",
      " [0.84082182 0.57792291 0.29369346 0.92434933 0.73228153]\n",
      " [0.4377725  0.13439045 0.6548642  0.71445917 0.75295608]\n",
      " [0.97402752 0.50757393 0.41615027 0.1490049  0.75194739]\n",
      " [0.51517367 0.41458304 0.38188359 0.99479706 0.82234285]\n",
      " [0.93809731 0.44567758 0.20440967 0.88379887 0.5912174 ]\n",
      " [0.17041506 0.72331802 0.99613464 0.77494901 0.25779588]\n",
      " [0.1612142  0.91050933 0.97759128 0.17923788 0.77324701]\n",
      " [0.51084382 0.82825882 0.55351973 0.84723817 0.66953093]\n",
      " [0.94858445 0.3245285  0.64533341 0.3411474  0.97100043]\n",
      " [0.50493842 0.83012385 0.76585299 0.01483471 0.8994783 ]]\n"
     ]
    }
   ],
   "source": [
    "numpy.random.shuffle(x)\n",
    "training, test = x[:80,:], x[80:,:]\n",
    "print(test)"
   ]
  },
  {
   "cell_type": "code",
   "execution_count": 18,
   "metadata": {},
   "outputs": [],
   "source": [
    "headers = [\"id\",\n",
    "\"diagnosis\",\n",
    "\"radius_mean\",\n",
    "\"texture_mean\",\n",
    "\"perimeter_mean\",\n",
    "\"area_mean\",\n",
    "\"smoothness_mean\",\n",
    "\"compactness_mean\",\n",
    "\"concavity_mean\",\n",
    "\"concave points_mean\",\n",
    "\"symmetry_mean\",\n",
    "\"fractal_dimension_mean\",\n",
    "\"radius_se\",\n",
    "\"texture_se\",\n",
    "\"perimeter_se\",\n",
    "\"area_se\",\n",
    "\"smoothness_se\",\n",
    "\"compactness_se\",\n",
    "\"concavity_se\",\n",
    "\"concave points_se\",\n",
    "\"symmetry_se\",\n",
    "\"fractal_dimension_se\",\n",
    "\"radius_worst\",\n",
    "\"texture_worst\",\n",
    "\"perimeter_worst\",\n",
    "\"area_worst\",\n",
    "\"smoothness_worst\",\n",
    "\"compactness_worst\",\n",
    "\"concavity_worst\",\n",
    "\"concave points_worst\",\n",
    "\"symmetry_worst\",\n",
    "\"fractal_dimension_worst\"]"
   ]
  },
  {
   "cell_type": "code",
   "execution_count": 23,
   "metadata": {
    "scrolled": true
   },
   "outputs": [
    {
     "name": "stdout",
     "output_type": "stream",
     "text": [
      "[[842302 'M' 17.99 ... 0.4601 0.1189 nan]\n",
      " [842517 'M' 20.57 ... 0.275 0.08902 nan]\n",
      " [84300903 'M' 19.69 ... 0.3613 0.08757999999999999 nan]\n",
      " ...\n",
      " [926954 'M' 16.6 ... 0.2218 0.0782 nan]\n",
      " [927241 'M' 20.6 ... 0.4087 0.124 nan]\n",
      " [92751 'B' 7.76 ... 0.2871 0.07039 nan]]\n"
     ]
    }
   ],
   "source": [
    "df=pd.read_csv('./data/data.csv', sep=',')\n",
    "print(df.values)"
   ]
  },
  {
   "cell_type": "code",
   "execution_count": 24,
   "metadata": {},
   "outputs": [
    {
     "name": "stdout",
     "output_type": "stream",
     "text": [
      "[ True False  True  True  True  True False  True False  True  True  True\n",
      "  True  True  True  True  True  True  True  True  True  True  True  True\n",
      "  True  True  True False  True  True  True  True False  True False  True\n",
      " False  True  True  True  True  True  True  True  True  True  True  True\n",
      " False  True  True  True  True  True  True False  True  True False  True\n",
      " False  True  True  True  True False  True  True  True  True  True  True\n",
      "  True  True  True  True  True  True  True  True  True  True False  True\n",
      "  True  True  True  True False  True  True  True False  True False  True\n",
      "  True False False False  True  True  True  True  True  True  True False\n",
      " False False  True  True  True  True  True  True  True False  True  True\n",
      "  True  True  True  True False  True  True  True  True  True  True  True\n",
      "  True  True  True False  True  True False False  True  True  True  True\n",
      "  True False  True  True  True  True False  True False  True  True False\n",
      " False  True  True  True  True  True  True  True  True  True  True  True\n",
      " False  True  True  True False  True  True False  True False  True  True\n",
      " False False  True  True False  True  True  True  True False  True False\n",
      "  True  True  True False  True  True  True  True  True False False  True\n",
      "  True  True  True False  True False  True  True  True False  True  True\n",
      " False  True  True  True  True  True  True  True  True  True  True  True\n",
      "  True False  True False False  True  True  True  True  True  True  True\n",
      " False  True  True  True  True False  True False  True False  True  True\n",
      "  True  True  True  True  True  True  True  True  True  True  True  True\n",
      "  True  True  True False False  True  True  True  True  True  True  True\n",
      "  True  True  True  True  True  True  True  True  True False  True False\n",
      "  True  True  True  True  True False  True False  True  True  True  True\n",
      "  True  True  True  True  True  True  True  True  True  True  True  True\n",
      "  True  True  True  True  True  True  True False  True  True False  True\n",
      "  True  True  True  True  True  True  True  True  True  True  True False\n",
      "  True False  True False  True  True  True  True  True  True  True  True\n",
      "  True  True  True  True  True  True False  True  True  True  True False\n",
      "  True False  True  True False  True  True  True  True False  True  True\n",
      " False  True  True  True  True  True False  True False  True  True  True\n",
      "  True  True False  True  True  True  True  True False  True  True  True\n",
      " False  True  True False  True  True  True  True  True False  True  True\n",
      "  True  True  True  True  True  True False  True  True  True False  True\n",
      "  True  True  True False False  True False False  True  True  True  True\n",
      "  True  True  True  True  True  True False False  True  True False False\n",
      " False  True  True  True  True  True  True  True  True False  True  True\n",
      "  True  True False  True False  True  True  True  True  True  True  True\n",
      " False  True  True  True  True False  True  True False  True  True False\n",
      "  True  True  True  True  True  True  True  True  True False  True  True\n",
      " False  True  True  True  True  True  True  True False  True  True  True\n",
      "  True  True  True  True False  True False  True  True  True  True  True\n",
      "  True  True  True  True False  True False  True  True  True False  True\n",
      "  True  True  True  True  True False  True  True False False  True  True\n",
      "  True  True  True  True  True False  True  True  True False  True False\n",
      "  True  True  True  True False  True  True  True  True  True  True  True\n",
      "  True  True  True  True  True]\n"
     ]
    }
   ],
   "source": [
    "msk = np.random.rand(len(df)) < 0.8\n",
    "print(msk)"
   ]
  },
  {
   "cell_type": "code",
   "execution_count": null,
   "metadata": {},
   "outputs": [],
   "source": [
    "train = df[msk]\n",
    "test = df[~msk]\n",
    "print(test)"
   ]
  }
 ],
 "metadata": {
  "kernelspec": {
   "display_name": "Python 3.8.1 64-bit",
   "language": "python",
   "name": "python38164bit933730a7d8b647db838841af8609b9a2"
  },
  "language_info": {
   "codemirror_mode": {
    "name": "ipython",
    "version": 3
   },
   "file_extension": ".py",
   "mimetype": "text/x-python",
   "name": "python",
   "nbconvert_exporter": "python",
   "pygments_lexer": "ipython3",
   "version": "3.8.1"
  }
 },
 "nbformat": 4,
 "nbformat_minor": 4
}
